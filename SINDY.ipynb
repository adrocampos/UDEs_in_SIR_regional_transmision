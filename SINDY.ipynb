{
 "cells": [
  {
   "cell_type": "code",
   "execution_count": 1,
   "id": "e72b3a69-00c4-4da1-96e2-2610e6489498",
   "metadata": {},
   "outputs": [
    {
     "name": "stderr",
     "output_type": "stream",
     "text": [
      "\u001b[32m\u001b[1m  Activating\u001b[22m\u001b[39m project at `~/covid19/env_2`\n"
     ]
    }
   ],
   "source": [
    "using Pkg; Pkg.activate(\"/Users/adrocampos/covid19/env_2\")\n",
    "using Plots\n",
    "using CSV\n",
    "using DataFrames\n",
    "using OrdinaryDiffEq\n",
    "using Optim\n",
    "using DataFrames\n",
    "using DiffEqFlux\n",
    "using Flux\n",
    "using Random\n",
    "using LinearAlgebra\n",
    "using Dates\n",
    "using ModelingToolkit\n",
    "using DataDrivenDiffEq\n",
    "using SciMLBase\n",
    "using Plots\n",
    "using JLD\n",
    "using Interpolations\n",
    "using DataDrivenSparse"
   ]
  },
  {
   "cell_type": "code",
   "execution_count": 2,
   "id": "4e43e2a9-a4de-47b4-a2b1-86525a464abd",
   "metadata": {},
   "outputs": [
    {
     "data": {
      "text/plain": [
       "mse (generic function with 1 method)"
      ]
     },
     "execution_count": 2,
     "metadata": {},
     "output_type": "execute_result"
    }
   ],
   "source": [
    "function mse(pred, x_test)\n",
    "    sum(abs2, x_test .- pred) / size(x_test, 2)\n",
    "end"
   ]
  },
  {
   "cell_type": "code",
   "execution_count": 3,
   "id": "64bc8119-2d87-48b5-83d0-327c2762eb70",
   "metadata": {},
   "outputs": [
    {
     "ename": "LoadError",
     "evalue": "ArgumentError: \"/Users/adrocampos/covid19/synth_data/SIR_10_regions_inv_dist_init.csv\" is not a valid file or doesn't exist",
     "output_type": "error",
     "traceback": [
      "ArgumentError: \"/Users/adrocampos/covid19/synth_data/SIR_10_regions_inv_dist_init.csv\" is not a valid file or doesn't exist",
      "",
      "Stacktrace:",
      " [1] CSV.Context(source::CSV.Arg, header::CSV.Arg, normalizenames::CSV.Arg, datarow::CSV.Arg, skipto::CSV.Arg, footerskip::CSV.Arg, transpose::CSV.Arg, comment::CSV.Arg, ignoreemptyrows::CSV.Arg, ignoreemptylines::CSV.Arg, select::CSV.Arg, drop::CSV.Arg, limit::CSV.Arg, buffer_in_memory::CSV.Arg, threaded::CSV.Arg, ntasks::CSV.Arg, tasks::CSV.Arg, rows_to_check::CSV.Arg, lines_to_check::CSV.Arg, missingstrings::CSV.Arg, missingstring::CSV.Arg, delim::CSV.Arg, ignorerepeated::CSV.Arg, quoted::CSV.Arg, quotechar::CSV.Arg, openquotechar::CSV.Arg, closequotechar::CSV.Arg, escapechar::CSV.Arg, dateformat::CSV.Arg, dateformats::CSV.Arg, decimal::CSV.Arg, groupmark::CSV.Arg, truestrings::CSV.Arg, falsestrings::CSV.Arg, stripwhitespace::CSV.Arg, type::CSV.Arg, types::CSV.Arg, typemap::CSV.Arg, pool::CSV.Arg, downcast::CSV.Arg, lazystrings::CSV.Arg, stringtype::CSV.Arg, strict::CSV.Arg, silencewarnings::CSV.Arg, maxwarnings::CSV.Arg, debug::CSV.Arg, parsingdebug::CSV.Arg, validate::CSV.Arg, streaming::CSV.Arg)",
      "   @ CSV ~/.julia/packages/CSV/OnldF/src/context.jl:314",
      " [2] #File#32",
      "   @ ~/.julia/packages/CSV/OnldF/src/file.jl:222 [inlined]",
      " [3] top-level scope",
      "   @ In[3]:5"
     ]
    }
   ],
   "source": [
    "mobility = [\"border\", \"inv_dist\", \"neighbor\"][2]\n",
    "data_dir = \"/Users/adrocampos/covid19/synth_data/\"\n",
    "file_name = \"SIR_\" * string(10) * \"_regions_\" * mobility * \"_\" * string(init) * \".csv\"\n",
    "    \n",
    "csv_reader = CSV.File(data_dir * file_name, types=Float64) \n",
    "df = DataFrame(csv_reader)\n",
    "X = Matrix(df)[:,2:end] ## Filtering out t\n",
    "mask = (1:10:5001) ## Defines resolution of input data\n",
    "X = X[mask, :]'\n",
    "println(size(X))\n",
    "\n",
    "## Selecting training and testing sets\n",
    "tspan_train = 1:251\n",
    "tspan_test  = 1:501\n",
    "    \n",
    "\n",
    "init = 16\n",
    "\n",
    "mse_sindy_all_regions = Float64[]\n",
    "mse_uode_all_regions  = Float64[]\n",
    "\n",
    "\n",
    "for target_region in 1:10\n",
    "\n",
    "    ####################################################################\n",
    "    ############################## Set up ##############################\n",
    "    ####################################################################\n",
    "    \n",
    "    folder_name = \"SIR_\" * string(10) * \"_regions_\" * mobility * \"_\" * string(tspan_train[end]) *  \"/\"\n",
    "    save_dir = \"/Users/adrocampos/covid19/SIR_discovery/\" * folder_name * \"init_\" * lpad(init,2,\"0\")  * \"/region_\" * lpad(target_region,2,\"0\") * \"/\"\n",
    "    println(\"save_dir = \", save_dir)\n",
    "\n",
    "    universe = range(1, size(X)[1], step=1)\n",
    "    index_target = (target_region - 1) * 3 + 1\n",
    "    targets = [index_target, index_target+1, index_target+2]\n",
    "    adjacents = setdiff(universe , targets)\n",
    "    \n",
    "    x_target = X[targets,:]\n",
    "    x_adjacent = X[adjacents,:]\n",
    "    \n",
    "    x_test  = x_target[:,tspan_test]\n",
    "    x_train = x_target[:,tspan_train]\n",
    "    \n",
    "    u0 = x_train[:, 1]\n",
    "    \n",
    "    ## Linear interpolation of the SIR model of adjacent region\n",
    "    interpolation_adjacent = interpolate(Array(x_adjacent), BSpline(Linear()))\n",
    "\n",
    "    \n",
    "    #####################################################################\n",
    "    ########################## Sindy Model ##############################\n",
    "    #####################################################################\n",
    "    \n",
    "    res_UODE_2 = load(save_dir * \"3_UODE_params_2.jld\", \"UODE_params\")\n",
    "    uode_pred  = load(save_dir * \"3_UODE_pred.jld\", \"UODE_pred\")\n",
    "    ann_input  = load(save_dir * \"4_ann_input.jld\", \"ann_input\")\n",
    "    ann_output = load(save_dir * \"4_ann_output.jld\", \"ann_output\")\n",
    "\n",
    "    problem = DirectDataDrivenProblem(ann_input, ann_output)\n",
    "\n",
    "    @variables v[1:27]\n",
    "    h = monomial_basis(v,2)\n",
    "    basis = Basis(h, v)\n",
    "    \n",
    "    λs = exp10.(-5:0.1:5)\n",
    "    opt = STLSQ(λs)\n",
    "    sindy_res = solve(problem, basis, opt, progress=true, normalize=false, denoise=true)\n",
    "    \n",
    "    res_basis  = get_basis(sindy_res)\n",
    "    res_params = get_parameter_values(res_basis)\n",
    "    \n",
    "    println(res_basis)\n",
    "    \n",
    "    function approx(du, u, p, t)\n",
    "    \n",
    "        β = res_UODE_2[1]\n",
    "        γ = res_UODE_2[2]\n",
    "    \n",
    "        S, I, R = u\n",
    "        N = sum(u)\n",
    "    \n",
    "        adjacent_SIR = interpolation_adjacent[:,t]\n",
    "        si = sindy_res(adjacent_SIR./sum(adjacent_SIR), p) \n",
    "    \n",
    "        du[1] = (-β * I / N) * S - si[1]\n",
    "        du[2] =  (β * I / N) * S + si[1] - (γ * I)   \n",
    "        du[3] =  (γ * I)      \n",
    "    \n",
    "    end\n",
    "    \n",
    "    sindy_prob = ODEProblem(approx, u0, (1,501), res_params)\n",
    "    pred_sindy = solve(sindy_prob, Tsit5(), u0=u0, tspan=(1,501), saveat=1)\n",
    "\n",
    "    ## Saving results\n",
    "    save_dir_sindy = \"/Users/adrocampos/covid19/sindy/init_\" * lpad(init,2,\"0\") * \"/\"\n",
    "    save(save_dir_sindy * \"4_SINDY_pred_region_\"   * lpad(target_region,2,\"0\") * \".jld\", \"SINDY_pred\", Array(pred_sindy))\n",
    "    save(save_dir_sindy * \"4_SINDY_params_region_\" * lpad(target_region,2,\"0\") * \".jld\", \"SINDY_params\", Array(res_params))\n",
    "    \n",
    "    plt = plot(pred_sindy', labels=[\"SInDy pred S\" \"SInDy pred I\" \"SInDy pred R\"], lw=2, ls=:dot, palette=:Dark2_3)\n",
    "    plt = plot!(x_test', labels=[\"S\" \"I\" \"R\"], lw=1, palette=:Dark2_3, linealpha=.5)\n",
    "    plt = plot!(x_train', labels=[\"Train S\" \" Train I\" \"Train R\"], lw=3, palette=:Dark2_3)\n",
    "    plt = plot!(legend=:right)\n",
    "    savefig(plt, save_dir_sindy * \"4_SINDY_pred_region_\" * lpad(target_region,2,\"0\") * \".pdf\")  \n",
    "\n",
    "end"
   ]
  },
  {
   "cell_type": "code",
   "execution_count": null,
   "id": "0c5cfa4a-8ae6-4d3a-9e3b-9264ccaf841a",
   "metadata": {},
   "outputs": [],
   "source": []
  }
 ],
 "metadata": {
  "kernelspec": {
   "display_name": "Julia 1.9.2",
   "language": "julia",
   "name": "julia-1.9"
  },
  "language_info": {
   "file_extension": ".jl",
   "mimetype": "application/julia",
   "name": "julia",
   "version": "1.9.2"
  }
 },
 "nbformat": 4,
 "nbformat_minor": 5
}
