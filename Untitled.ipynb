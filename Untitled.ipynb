{
 "cells": [
  {
   "cell_type": "code",
   "execution_count": 1,
   "id": "50e6efd5",
   "metadata": {},
   "outputs": [
    {
     "name": "stderr",
     "output_type": "stream",
     "text": [
      "WARNING: using Flux.frequencies in module DataDrivenDiffEq conflicts with an existing identifier.\n",
      "┌ Info: DataDrivenDiffEq : OccamNet is available.\n",
      "└ @ DataDrivenDiffEq /Users/adrocampos/.julia/packages/DataDrivenDiffEq/fivVr/src/DataDrivenDiffEq.jl:168\n"
     ]
    },
    {
     "name": "stdout",
     "output_type": "stream",
     "text": [
      "\u001b[32m\u001b[1m      Status\u001b[22m\u001b[39m `~/covid19/discovering_missing_terms/Project.toml`\n",
      " \u001b[90m [336ed68f] \u001b[39mCSV v0.10.7\n",
      " \u001b[90m [2445eb08] \u001b[39mDataDrivenDiffEq v0.8.6\n",
      " \u001b[90m [a93c6f00] \u001b[39mDataFrames v1.4.3\n",
      " \u001b[90m [aae7a2af] \u001b[39mDiffEqFlux v1.52.0\n",
      " \u001b[90m [41bf760c] \u001b[39mDiffEqSensitivity v6.79.0\n",
      " \u001b[90m [587475ba] \u001b[39mFlux v0.13.7\n",
      " \u001b[90m [7073ff75] \u001b[39mIJulia v1.23.3\n",
      " \u001b[90m [961ee093] \u001b[39mModelingToolkit v8.33.0\n",
      " \u001b[90m [429524aa] \u001b[39mOptim v1.7.3\n",
      " \u001b[90m [1dea7af3] \u001b[39mOrdinaryDiffEq v6.31.2\n",
      " \u001b[90m [91a5bcdd] \u001b[39mPlots v1.36.1\n",
      " \u001b[90m [37e2e46d] \u001b[39mLinearAlgebra\n"
     ]
    }
   ],
   "source": [
    "using Pkg;\n",
    "#Pkg.activate(\".\"); Pkg.instantiate()\n",
    "using OrdinaryDiffEq\n",
    "using ModelingToolkit\n",
    "using DataDrivenDiffEq\n",
    "using LinearAlgebra, DiffEqSensitivity, Optim\n",
    "using DiffEqFlux, Flux\n",
    "using CSV\n",
    "using DataFrames\n",
    "using Plots\n",
    "gr()\n",
    "Pkg.status()"
   ]
  },
  {
   "cell_type": "code",
   "execution_count": 60,
   "id": "2dcccc4e",
   "metadata": {},
   "outputs": [
    {
     "data": {
      "text/plain": [
       "false"
      ]
     },
     "execution_count": 60,
     "metadata": {},
     "output_type": "execute_result"
    }
   ],
   "source": [
    "data_dir = \"/Users/adrocampos/covid19/synth_data/\"\n",
    "regions = [\"2\", \"3\", \"5\", \"10\", \"15\", \"20\", \"30\"][1]\n",
    "mobility_type  = [\"inv_dist\", \"border\", \"neighbor\"][2]\n",
    "initially_recovered = false"
   ]
  },
  {
   "cell_type": "code",
   "execution_count": 61,
   "id": "841cce63",
   "metadata": {},
   "outputs": [
    {
     "data": {
      "text/html": [
       "<div><div style = \"float: left;\"><span>2×5 DataFrame</span></div><div style = \"clear: both;\"></div></div><div class = \"data-frame\" style = \"overflow-x: scroll;\"><table class = \"data-frame\" style = \"margin-bottom: 6px;\"><thead><tr class = \"header\"><th class = \"rowNumber\" style = \"font-weight: bold; text-align: right;\">Row</th><th style = \"text-align: left;\">id</th><th style = \"text-align: left;\">N</th><th style = \"text-align: left;\">density</th><th style = \"text-align: left;\">x</th><th style = \"text-align: left;\">y</th></tr><tr class = \"subheader headerLastRow\"><th class = \"rowNumber\" style = \"font-weight: bold; text-align: right;\"></th><th title = \"Int64\" style = \"text-align: left;\">Int64</th><th title = \"Int64\" style = \"text-align: left;\">Int64</th><th title = \"Float64\" style = \"text-align: left;\">Float64</th><th title = \"Float64\" style = \"text-align: left;\">Float64</th><th title = \"Float64\" style = \"text-align: left;\">Float64</th></tr></thead><tbody><tr><td class = \"rowNumber\" style = \"font-weight: bold; text-align: right;\">1</td><td style = \"text-align: right;\">1</td><td style = \"text-align: right;\">2780</td><td style = \"text-align: right;\">308.973</td><td style = \"text-align: right;\">0.246368</td><td style = \"text-align: right;\">0.714476</td></tr><tr><td class = \"rowNumber\" style = \"font-weight: bold; text-align: right;\">2</td><td style = \"text-align: right;\">2</td><td style = \"text-align: right;\">1081</td><td style = \"text-align: right;\">154.375</td><td style = \"text-align: right;\">0.315868</td><td style = \"text-align: right;\">3.86025</td></tr></tbody></table></div>"
      ],
      "text/latex": [
       "\\begin{tabular}{r|ccccc}\n",
       "\t& id & N & density & x & y\\\\\n",
       "\t\\hline\n",
       "\t& Int64 & Int64 & Float64 & Float64 & Float64\\\\\n",
       "\t\\hline\n",
       "\t1 & 1 & 2780 & 308.973 & 0.246368 & 0.714476 \\\\\n",
       "\t2 & 2 & 1081 & 154.375 & 0.315868 & 3.86025 \\\\\n",
       "\\end{tabular}\n"
      ],
      "text/plain": [
       "\u001b[1m2×5 DataFrame\u001b[0m\n",
       "\u001b[1m Row \u001b[0m│\u001b[1m id    \u001b[0m\u001b[1m N     \u001b[0m\u001b[1m density \u001b[0m\u001b[1m x        \u001b[0m\u001b[1m y        \u001b[0m\n",
       "     │\u001b[90m Int64 \u001b[0m\u001b[90m Int64 \u001b[0m\u001b[90m Float64 \u001b[0m\u001b[90m Float64  \u001b[0m\u001b[90m Float64  \u001b[0m\n",
       "─────┼───────────────────────────────────────────\n",
       "   1 │     1   2780  308.973  0.246368  0.714476\n",
       "   2 │     2   1081  154.375  0.315868  3.86025"
      ]
     },
     "execution_count": 61,
     "metadata": {},
     "output_type": "execute_result"
    }
   ],
   "source": [
    "positions = CSV.File(data_dir * \"positions_\" * regions * \"_regions.csv\")\n",
    "positions = DataFrame(positions)\n"
   ]
  },
  {
   "cell_type": "code",
   "execution_count": 62,
   "id": "9136b578",
   "metadata": {},
   "outputs": [
    {
     "data": {
      "text/plain": [
       "2780"
      ]
     },
     "execution_count": 62,
     "metadata": {},
     "output_type": "execute_result"
    }
   ],
   "source": [
    "N = positions[:,\"N\"][1]"
   ]
  },
  {
   "cell_type": "code",
   "execution_count": 63,
   "id": "5a68eaaf",
   "metadata": {},
   "outputs": [
    {
     "data": {
      "text/plain": [
       "\"1\""
      ]
     },
     "execution_count": 63,
     "metadata": {},
     "output_type": "execute_result"
    }
   ],
   "source": [
    "file = \"1\""
   ]
  },
  {
   "cell_type": "code",
   "execution_count": 64,
   "id": "23ecf96a",
   "metadata": {},
   "outputs": [
    {
     "data": {
      "text/html": [
       "<div><div style = \"float: left;\"><span>5001×7 DataFrame</span></div><div style = \"float: right;\"><span style = \"font-style: italic;\">4976 rows omitted</span></div><div style = \"clear: both;\"></div></div><div class = \"data-frame\" style = \"overflow-x: scroll;\"><table class = \"data-frame\" style = \"margin-bottom: 6px;\"><thead><tr class = \"header\"><th class = \"rowNumber\" style = \"font-weight: bold; text-align: right;\">Row</th><th style = \"text-align: left;\">t</th><th style = \"text-align: left;\">S1</th><th style = \"text-align: left;\">I1</th><th style = \"text-align: left;\">R1</th><th style = \"text-align: left;\">S2</th><th style = \"text-align: left;\">I2</th><th style = \"text-align: left;\">R2</th></tr><tr class = \"subheader headerLastRow\"><th class = \"rowNumber\" style = \"font-weight: bold; text-align: right;\"></th><th title = \"Float64\" style = \"text-align: left;\">Float64</th><th title = \"Float64\" style = \"text-align: left;\">Float64</th><th title = \"Float64\" style = \"text-align: left;\">Float64</th><th title = \"Float64\" style = \"text-align: left;\">Float64</th><th title = \"Float64\" style = \"text-align: left;\">Float64</th><th title = \"Float64\" style = \"text-align: left;\">Float64</th><th title = \"Float64\" style = \"text-align: left;\">Float64</th></tr></thead><tbody><tr><td class = \"rowNumber\" style = \"font-weight: bold; text-align: right;\">1</td><td style = \"text-align: right;\">0.0</td><td style = \"text-align: right;\">2773.0</td><td style = \"text-align: right;\">7.0</td><td style = \"text-align: right;\">0.0</td><td style = \"text-align: right;\">1078.0</td><td style = \"text-align: right;\">3.0</td><td style = \"text-align: right;\">0.0</td></tr><tr><td class = \"rowNumber\" style = \"font-weight: bold; text-align: right;\">2</td><td style = \"text-align: right;\">0.1</td><td style = \"text-align: right;\">2772.93</td><td style = \"text-align: right;\">6.99984</td><td style = \"text-align: right;\">0.0699992</td><td style = \"text-align: right;\">1077.97</td><td style = \"text-align: right;\">2.99992</td><td style = \"text-align: right;\">0.0299996</td></tr><tr><td class = \"rowNumber\" style = \"font-weight: bold; text-align: right;\">3</td><td style = \"text-align: right;\">0.2</td><td style = \"text-align: right;\">2772.86</td><td style = \"text-align: right;\">6.9997</td><td style = \"text-align: right;\">0.139997</td><td style = \"text-align: right;\">1077.94</td><td style = \"text-align: right;\">2.99985</td><td style = \"text-align: right;\">0.0599985</td></tr><tr><td class = \"rowNumber\" style = \"font-weight: bold; text-align: right;\">4</td><td style = \"text-align: right;\">0.3</td><td style = \"text-align: right;\">2772.79</td><td style = \"text-align: right;\">6.99959</td><td style = \"text-align: right;\">0.209993</td><td style = \"text-align: right;\">1077.91</td><td style = \"text-align: right;\">2.99979</td><td style = \"text-align: right;\">0.0899967</td></tr><tr><td class = \"rowNumber\" style = \"font-weight: bold; text-align: right;\">5</td><td style = \"text-align: right;\">0.4</td><td style = \"text-align: right;\">2772.72</td><td style = \"text-align: right;\">6.99951</td><td style = \"text-align: right;\">0.279989</td><td style = \"text-align: right;\">1077.88</td><td style = \"text-align: right;\">2.99974</td><td style = \"text-align: right;\">0.119994</td></tr><tr><td class = \"rowNumber\" style = \"font-weight: bold; text-align: right;\">6</td><td style = \"text-align: right;\">0.5</td><td style = \"text-align: right;\">2772.65</td><td style = \"text-align: right;\">6.99945</td><td style = \"text-align: right;\">0.349984</td><td style = \"text-align: right;\">1077.85</td><td style = \"text-align: right;\">2.9997</td><td style = \"text-align: right;\">0.149992</td></tr><tr><td class = \"rowNumber\" style = \"font-weight: bold; text-align: right;\">7</td><td style = \"text-align: right;\">0.6</td><td style = \"text-align: right;\">2772.58</td><td style = \"text-align: right;\">6.99942</td><td style = \"text-align: right;\">0.419978</td><td style = \"text-align: right;\">1077.82</td><td style = \"text-align: right;\">2.99967</td><td style = \"text-align: right;\">0.179988</td></tr><tr><td class = \"rowNumber\" style = \"font-weight: bold; text-align: right;\">8</td><td style = \"text-align: right;\">0.7</td><td style = \"text-align: right;\">2772.51</td><td style = \"text-align: right;\">6.99942</td><td style = \"text-align: right;\">0.489972</td><td style = \"text-align: right;\">1077.79</td><td style = \"text-align: right;\">2.99964</td><td style = \"text-align: right;\">0.209985</td></tr><tr><td class = \"rowNumber\" style = \"font-weight: bold; text-align: right;\">9</td><td style = \"text-align: right;\">0.8</td><td style = \"text-align: right;\">2772.44</td><td style = \"text-align: right;\">6.99945</td><td style = \"text-align: right;\">0.559966</td><td style = \"text-align: right;\">1077.76</td><td style = \"text-align: right;\">2.99963</td><td style = \"text-align: right;\">0.239981</td></tr><tr><td class = \"rowNumber\" style = \"font-weight: bold; text-align: right;\">10</td><td style = \"text-align: right;\">0.9</td><td style = \"text-align: right;\">2772.37</td><td style = \"text-align: right;\">6.9995</td><td style = \"text-align: right;\">0.629961</td><td style = \"text-align: right;\">1077.73</td><td style = \"text-align: right;\">2.99962</td><td style = \"text-align: right;\">0.269978</td></tr><tr><td class = \"rowNumber\" style = \"font-weight: bold; text-align: right;\">11</td><td style = \"text-align: right;\">1.0</td><td style = \"text-align: right;\">2772.3</td><td style = \"text-align: right;\">6.99958</td><td style = \"text-align: right;\">0.699956</td><td style = \"text-align: right;\">1077.7</td><td style = \"text-align: right;\">2.99963</td><td style = \"text-align: right;\">0.299974</td></tr><tr><td class = \"rowNumber\" style = \"font-weight: bold; text-align: right;\">12</td><td style = \"text-align: right;\">1.1</td><td style = \"text-align: right;\">2772.23</td><td style = \"text-align: right;\">6.99968</td><td style = \"text-align: right;\">0.769953</td><td style = \"text-align: right;\">1077.67</td><td style = \"text-align: right;\">2.99964</td><td style = \"text-align: right;\">0.32997</td></tr><tr><td class = \"rowNumber\" style = \"font-weight: bold; text-align: right;\">13</td><td style = \"text-align: right;\">1.2</td><td style = \"text-align: right;\">2772.16</td><td style = \"text-align: right;\">6.99981</td><td style = \"text-align: right;\">0.83995</td><td style = \"text-align: right;\">1077.64</td><td style = \"text-align: right;\">2.99967</td><td style = \"text-align: right;\">0.359967</td></tr><tr><td style = \"text-align: right;\">&vellip;</td><td style = \"text-align: right;\">&vellip;</td><td style = \"text-align: right;\">&vellip;</td><td style = \"text-align: right;\">&vellip;</td><td style = \"text-align: right;\">&vellip;</td><td style = \"text-align: right;\">&vellip;</td><td style = \"text-align: right;\">&vellip;</td><td style = \"text-align: right;\">&vellip;</td></tr><tr><td class = \"rowNumber\" style = \"font-weight: bold; text-align: right;\">4990</td><td style = \"text-align: right;\">498.9</td><td style = \"text-align: right;\">747.171</td><td style = \"text-align: right;\">28.7668</td><td style = \"text-align: right;\">2004.06</td><td style = \"text-align: right;\">290.545</td><td style = \"text-align: right;\">11.1866</td><td style = \"text-align: right;\">779.268</td></tr><tr><td class = \"rowNumber\" style = \"font-weight: bold; text-align: right;\">4991</td><td style = \"text-align: right;\">499.0</td><td style = \"text-align: right;\">746.894</td><td style = \"text-align: right;\">28.7561</td><td style = \"text-align: right;\">2004.35</td><td style = \"text-align: right;\">290.437</td><td style = \"text-align: right;\">11.1825</td><td style = \"text-align: right;\">779.38</td></tr><tr><td class = \"rowNumber\" style = \"font-weight: bold; text-align: right;\">4992</td><td style = \"text-align: right;\">499.1</td><td style = \"text-align: right;\">746.617</td><td style = \"text-align: right;\">28.7455</td><td style = \"text-align: right;\">2004.64</td><td style = \"text-align: right;\">290.33</td><td style = \"text-align: right;\">11.1783</td><td style = \"text-align: right;\">779.492</td></tr><tr><td class = \"rowNumber\" style = \"font-weight: bold; text-align: right;\">4993</td><td style = \"text-align: right;\">499.2</td><td style = \"text-align: right;\">746.34</td><td style = \"text-align: right;\">28.7348</td><td style = \"text-align: right;\">2004.93</td><td style = \"text-align: right;\">290.222</td><td style = \"text-align: right;\">11.1742</td><td style = \"text-align: right;\">779.604</td></tr><tr><td class = \"rowNumber\" style = \"font-weight: bold; text-align: right;\">4994</td><td style = \"text-align: right;\">499.3</td><td style = \"text-align: right;\">746.063</td><td style = \"text-align: right;\">28.7242</td><td style = \"text-align: right;\">2005.21</td><td style = \"text-align: right;\">290.115</td><td style = \"text-align: right;\">11.17</td><td style = \"text-align: right;\">779.715</td></tr><tr><td class = \"rowNumber\" style = \"font-weight: bold; text-align: right;\">4995</td><td style = \"text-align: right;\">499.4</td><td style = \"text-align: right;\">745.787</td><td style = \"text-align: right;\">28.7135</td><td style = \"text-align: right;\">2005.5</td><td style = \"text-align: right;\">290.007</td><td style = \"text-align: right;\">11.1659</td><td style = \"text-align: right;\">779.827</td></tr><tr><td class = \"rowNumber\" style = \"font-weight: bold; text-align: right;\">4996</td><td style = \"text-align: right;\">499.5</td><td style = \"text-align: right;\">745.51</td><td style = \"text-align: right;\">28.7029</td><td style = \"text-align: right;\">2005.79</td><td style = \"text-align: right;\">289.899</td><td style = \"text-align: right;\">11.1618</td><td style = \"text-align: right;\">779.939</td></tr><tr><td class = \"rowNumber\" style = \"font-weight: bold; text-align: right;\">4997</td><td style = \"text-align: right;\">499.6</td><td style = \"text-align: right;\">745.234</td><td style = \"text-align: right;\">28.6923</td><td style = \"text-align: right;\">2006.07</td><td style = \"text-align: right;\">289.792</td><td style = \"text-align: right;\">11.1576</td><td style = \"text-align: right;\">780.05</td></tr><tr><td class = \"rowNumber\" style = \"font-weight: bold; text-align: right;\">4998</td><td style = \"text-align: right;\">499.7</td><td style = \"text-align: right;\">744.958</td><td style = \"text-align: right;\">28.6816</td><td style = \"text-align: right;\">2006.36</td><td style = \"text-align: right;\">289.685</td><td style = \"text-align: right;\">11.1535</td><td style = \"text-align: right;\">780.162</td></tr><tr><td class = \"rowNumber\" style = \"font-weight: bold; text-align: right;\">4999</td><td style = \"text-align: right;\">499.8</td><td style = \"text-align: right;\">744.682</td><td style = \"text-align: right;\">28.671</td><td style = \"text-align: right;\">2006.65</td><td style = \"text-align: right;\">289.577</td><td style = \"text-align: right;\">11.1494</td><td style = \"text-align: right;\">780.273</td></tr><tr><td class = \"rowNumber\" style = \"font-weight: bold; text-align: right;\">5000</td><td style = \"text-align: right;\">499.9</td><td style = \"text-align: right;\">744.406</td><td style = \"text-align: right;\">28.6604</td><td style = \"text-align: right;\">2006.93</td><td style = \"text-align: right;\">289.47</td><td style = \"text-align: right;\">11.1453</td><td style = \"text-align: right;\">780.385</td></tr><tr><td class = \"rowNumber\" style = \"font-weight: bold; text-align: right;\">5001</td><td style = \"text-align: right;\">500.0</td><td style = \"text-align: right;\">744.13</td><td style = \"text-align: right;\">28.6498</td><td style = \"text-align: right;\">2007.22</td><td style = \"text-align: right;\">289.363</td><td style = \"text-align: right;\">11.1411</td><td style = \"text-align: right;\">780.496</td></tr></tbody></table></div>"
      ],
      "text/latex": [
       "\\begin{tabular}{r|ccccccc}\n",
       "\t& t & S1 & I1 & R1 & S2 & I2 & R2\\\\\n",
       "\t\\hline\n",
       "\t& Float64 & Float64 & Float64 & Float64 & Float64 & Float64 & Float64\\\\\n",
       "\t\\hline\n",
       "\t1 & 0.0 & 2773.0 & 7.0 & 0.0 & 1078.0 & 3.0 & 0.0 \\\\\n",
       "\t2 & 0.1 & 2772.93 & 6.99984 & 0.0699992 & 1077.97 & 2.99992 & 0.0299996 \\\\\n",
       "\t3 & 0.2 & 2772.86 & 6.9997 & 0.139997 & 1077.94 & 2.99985 & 0.0599985 \\\\\n",
       "\t4 & 0.3 & 2772.79 & 6.99959 & 0.209993 & 1077.91 & 2.99979 & 0.0899967 \\\\\n",
       "\t5 & 0.4 & 2772.72 & 6.99951 & 0.279989 & 1077.88 & 2.99974 & 0.119994 \\\\\n",
       "\t6 & 0.5 & 2772.65 & 6.99945 & 0.349984 & 1077.85 & 2.9997 & 0.149992 \\\\\n",
       "\t7 & 0.6 & 2772.58 & 6.99942 & 0.419978 & 1077.82 & 2.99967 & 0.179988 \\\\\n",
       "\t8 & 0.7 & 2772.51 & 6.99942 & 0.489972 & 1077.79 & 2.99964 & 0.209985 \\\\\n",
       "\t9 & 0.8 & 2772.44 & 6.99945 & 0.559966 & 1077.76 & 2.99963 & 0.239981 \\\\\n",
       "\t10 & 0.9 & 2772.37 & 6.9995 & 0.629961 & 1077.73 & 2.99962 & 0.269978 \\\\\n",
       "\t11 & 1.0 & 2772.3 & 6.99958 & 0.699956 & 1077.7 & 2.99963 & 0.299974 \\\\\n",
       "\t12 & 1.1 & 2772.23 & 6.99968 & 0.769953 & 1077.67 & 2.99964 & 0.32997 \\\\\n",
       "\t13 & 1.2 & 2772.16 & 6.99981 & 0.83995 & 1077.64 & 2.99967 & 0.359967 \\\\\n",
       "\t14 & 1.3 & 2772.09 & 6.99997 & 0.909949 & 1077.61 & 2.9997 & 0.389963 \\\\\n",
       "\t15 & 1.4 & 2772.02 & 7.00016 & 0.97995 & 1077.58 & 2.99974 & 0.419961 \\\\\n",
       "\t16 & 1.5 & 2771.95 & 7.00037 & 1.04995 & 1077.55 & 2.99979 & 0.449958 \\\\\n",
       "\t17 & 1.6 & 2771.88 & 7.00061 & 1.11996 & 1077.52 & 2.99985 & 0.479956 \\\\\n",
       "\t18 & 1.7 & 2771.81 & 7.00087 & 1.18996 & 1077.49 & 2.99992 & 0.509955 \\\\\n",
       "\t19 & 1.8 & 2771.74 & 7.00116 & 1.25997 & 1077.46 & 3.0 & 0.539955 \\\\\n",
       "\t20 & 1.9 & 2771.67 & 7.00148 & 1.32999 & 1077.43 & 3.00008 & 0.569955 \\\\\n",
       "\t21 & 2.0 & 2771.6 & 7.00183 & 1.4 & 1077.4 & 3.00018 & 0.599957 \\\\\n",
       "\t22 & 2.1 & 2771.53 & 7.0022 & 1.47002 & 1077.37 & 3.00029 & 0.629959 \\\\\n",
       "\t23 & 2.2 & 2771.46 & 7.0026 & 1.54005 & 1077.34 & 3.0004 & 0.659962 \\\\\n",
       "\t24 & 2.3 & 2771.39 & 7.00302 & 1.61008 & 1077.31 & 3.00053 & 0.689967 \\\\\n",
       "\t25 & 2.4 & 2771.32 & 7.00348 & 1.68011 & 1077.28 & 3.00066 & 0.719973 \\\\\n",
       "\t26 & 2.5 & 2771.25 & 7.00395 & 1.75015 & 1077.25 & 3.0008 & 0.74998 \\\\\n",
       "\t27 & 2.6 & 2771.18 & 7.00446 & 1.82019 & 1077.22 & 3.00095 & 0.779989 \\\\\n",
       "\t28 & 2.7 & 2771.1 & 7.00499 & 1.89024 & 1077.19 & 3.00112 & 0.809999 \\\\\n",
       "\t29 & 2.8 & 2771.03 & 7.00555 & 1.96029 & 1077.16 & 3.00129 & 0.840011 \\\\\n",
       "\t30 & 2.9 & 2770.96 & 7.00614 & 2.03035 & 1077.13 & 3.00147 & 0.870025 \\\\\n",
       "\t$\\dots$ & $\\dots$ & $\\dots$ & $\\dots$ & $\\dots$ & $\\dots$ & $\\dots$ & $\\dots$ \\\\\n",
       "\\end{tabular}\n"
      ],
      "text/plain": [
       "\u001b[1m5001×7 DataFrame\u001b[0m\n",
       "\u001b[1m  Row \u001b[0m│\u001b[1m t       \u001b[0m\u001b[1m S1       \u001b[0m\u001b[1m I1       \u001b[0m\u001b[1m R1           \u001b[0m\u001b[1m S2       \u001b[0m\u001b[1m I2       \u001b[0m\u001b[1m R2     \u001b[0m ⋯\n",
       "      │\u001b[90m Float64 \u001b[0m\u001b[90m Float64  \u001b[0m\u001b[90m Float64  \u001b[0m\u001b[90m Float64      \u001b[0m\u001b[90m Float64  \u001b[0m\u001b[90m Float64  \u001b[0m\u001b[90m Float64\u001b[0m ⋯\n",
       "──────┼─────────────────────────────────────────────────────────────────────────\n",
       "    1 │     0.0  2773.0     7.0         0.0        1078.0     3.0        0.0   ⋯\n",
       "    2 │     0.1  2772.93    6.99984     0.0699992  1077.97    2.99992    0.029\n",
       "    3 │     0.2  2772.86    6.9997      0.139997   1077.94    2.99985    0.059\n",
       "    4 │     0.3  2772.79    6.99959     0.209993   1077.91    2.99979    0.089\n",
       "    5 │     0.4  2772.72    6.99951     0.279989   1077.88    2.99974    0.119 ⋯\n",
       "    6 │     0.5  2772.65    6.99945     0.349984   1077.85    2.9997     0.149\n",
       "    7 │     0.6  2772.58    6.99942     0.419978   1077.82    2.99967    0.179\n",
       "    8 │     0.7  2772.51    6.99942     0.489972   1077.79    2.99964    0.209\n",
       "    9 │     0.8  2772.44    6.99945     0.559966   1077.76    2.99963    0.239 ⋯\n",
       "   10 │     0.9  2772.37    6.9995      0.629961   1077.73    2.99962    0.269\n",
       "   11 │     1.0  2772.3     6.99958     0.699956   1077.7     2.99963    0.299\n",
       "  ⋮   │    ⋮        ⋮         ⋮           ⋮           ⋮         ⋮           ⋮  ⋱\n",
       " 4992 │   499.1   746.617  28.7455   2004.64        290.33   11.1783   779.492\n",
       " 4993 │   499.2   746.34   28.7348   2004.93        290.222  11.1742   779.604 ⋯\n",
       " 4994 │   499.3   746.063  28.7242   2005.21        290.115  11.17     779.715\n",
       " 4995 │   499.4   745.787  28.7135   2005.5         290.007  11.1659   779.827\n",
       " 4996 │   499.5   745.51   28.7029   2005.79        289.899  11.1618   779.939\n",
       " 4997 │   499.6   745.234  28.6923   2006.07        289.792  11.1576   780.05  ⋯\n",
       " 4998 │   499.7   744.958  28.6816   2006.36        289.685  11.1535   780.162\n",
       " 4999 │   499.8   744.682  28.671    2006.65        289.577  11.1494   780.273\n",
       " 5000 │   499.9   744.406  28.6604   2006.93        289.47   11.1453   780.385\n",
       " 5001 │   500.0   744.13   28.6498   2007.22        289.363  11.1411   780.496 ⋯\n",
       "\u001b[36m                                                  1 column and 4980 rows omitted\u001b[0m"
      ]
     },
     "execution_count": 64,
     "metadata": {},
     "output_type": "execute_result"
    }
   ],
   "source": [
    "csv_reader = CSV.File(data_dir * \"SIR_\" * regions * \"_regions_\" * mobility_type * \"_\" * file * \".csv\")\n",
    "df = DataFrame(csv_reader)"
   ]
  },
  {
   "cell_type": "code",
   "execution_count": 65,
   "id": "a7ca44aa",
   "metadata": {},
   "outputs": [
    {
     "data": {
      "text/html": [
       "<div><div style = \"float: left;\"><span>1001×7 DataFrame</span></div><div style = \"float: right;\"><span style = \"font-style: italic;\">976 rows omitted</span></div><div style = \"clear: both;\"></div></div><div class = \"data-frame\" style = \"overflow-x: scroll;\"><table class = \"data-frame\" style = \"margin-bottom: 6px;\"><thead><tr class = \"header\"><th class = \"rowNumber\" style = \"font-weight: bold; text-align: right;\">Row</th><th style = \"text-align: left;\">t</th><th style = \"text-align: left;\">S1</th><th style = \"text-align: left;\">I1</th><th style = \"text-align: left;\">R1</th><th style = \"text-align: left;\">S2</th><th style = \"text-align: left;\">I2</th><th style = \"text-align: left;\">R2</th></tr><tr class = \"subheader headerLastRow\"><th class = \"rowNumber\" style = \"font-weight: bold; text-align: right;\"></th><th title = \"Float64\" style = \"text-align: left;\">Float64</th><th title = \"Float64\" style = \"text-align: left;\">Float64</th><th title = \"Float64\" style = \"text-align: left;\">Float64</th><th title = \"Float64\" style = \"text-align: left;\">Float64</th><th title = \"Float64\" style = \"text-align: left;\">Float64</th><th title = \"Float64\" style = \"text-align: left;\">Float64</th><th title = \"Float64\" style = \"text-align: left;\">Float64</th></tr></thead><tbody><tr><td class = \"rowNumber\" style = \"font-weight: bold; text-align: right;\">1</td><td style = \"text-align: right;\">0.0</td><td style = \"text-align: right;\">2773.0</td><td style = \"text-align: right;\">7.0</td><td style = \"text-align: right;\">0.0</td><td style = \"text-align: right;\">1078.0</td><td style = \"text-align: right;\">3.0</td><td style = \"text-align: right;\">0.0</td></tr><tr><td class = \"rowNumber\" style = \"font-weight: bold; text-align: right;\">2</td><td style = \"text-align: right;\">0.5</td><td style = \"text-align: right;\">2772.65</td><td style = \"text-align: right;\">6.99945</td><td style = \"text-align: right;\">0.349984</td><td style = \"text-align: right;\">1077.85</td><td style = \"text-align: right;\">2.9997</td><td style = \"text-align: right;\">0.149992</td></tr><tr><td class = \"rowNumber\" style = \"font-weight: bold; text-align: right;\">3</td><td style = \"text-align: right;\">1.0</td><td style = \"text-align: right;\">2772.3</td><td style = \"text-align: right;\">6.99958</td><td style = \"text-align: right;\">0.699956</td><td style = \"text-align: right;\">1077.7</td><td style = \"text-align: right;\">2.99963</td><td style = \"text-align: right;\">0.299974</td></tr><tr><td class = \"rowNumber\" style = \"font-weight: bold; text-align: right;\">4</td><td style = \"text-align: right;\">1.5</td><td style = \"text-align: right;\">2771.95</td><td style = \"text-align: right;\">7.00037</td><td style = \"text-align: right;\">1.04995</td><td style = \"text-align: right;\">1077.55</td><td style = \"text-align: right;\">2.99979</td><td style = \"text-align: right;\">0.449958</td></tr><tr><td class = \"rowNumber\" style = \"font-weight: bold; text-align: right;\">5</td><td style = \"text-align: right;\">2.0</td><td style = \"text-align: right;\">2771.6</td><td style = \"text-align: right;\">7.00183</td><td style = \"text-align: right;\">1.4</td><td style = \"text-align: right;\">1077.4</td><td style = \"text-align: right;\">3.00018</td><td style = \"text-align: right;\">0.599957</td></tr><tr><td class = \"rowNumber\" style = \"font-weight: bold; text-align: right;\">6</td><td style = \"text-align: right;\">2.5</td><td style = \"text-align: right;\">2771.25</td><td style = \"text-align: right;\">7.00395</td><td style = \"text-align: right;\">1.75015</td><td style = \"text-align: right;\">1077.25</td><td style = \"text-align: right;\">3.0008</td><td style = \"text-align: right;\">0.74998</td></tr><tr><td class = \"rowNumber\" style = \"font-weight: bold; text-align: right;\">7</td><td style = \"text-align: right;\">3.0</td><td style = \"text-align: right;\">2770.89</td><td style = \"text-align: right;\">7.00675</td><td style = \"text-align: right;\">2.10041</td><td style = \"text-align: right;\">1077.1</td><td style = \"text-align: right;\">3.00165</td><td style = \"text-align: right;\">0.900041</td></tr><tr><td class = \"rowNumber\" style = \"font-weight: bold; text-align: right;\">8</td><td style = \"text-align: right;\">3.5</td><td style = \"text-align: right;\">2770.54</td><td style = \"text-align: right;\">7.01021</td><td style = \"text-align: right;\">2.45083</td><td style = \"text-align: right;\">1076.95</td><td style = \"text-align: right;\">3.00274</td><td style = \"text-align: right;\">1.05015</td></tr><tr><td class = \"rowNumber\" style = \"font-weight: bold; text-align: right;\">9</td><td style = \"text-align: right;\">4.0</td><td style = \"text-align: right;\">2770.18</td><td style = \"text-align: right;\">7.01434</td><td style = \"text-align: right;\">2.80144</td><td style = \"text-align: right;\">1076.8</td><td style = \"text-align: right;\">3.00405</td><td style = \"text-align: right;\">1.20032</td></tr><tr><td class = \"rowNumber\" style = \"font-weight: bold; text-align: right;\">10</td><td style = \"text-align: right;\">4.5</td><td style = \"text-align: right;\">2769.83</td><td style = \"text-align: right;\">7.01914</td><td style = \"text-align: right;\">3.15228</td><td style = \"text-align: right;\">1076.64</td><td style = \"text-align: right;\">3.00559</td><td style = \"text-align: right;\">1.35056</td></tr><tr><td class = \"rowNumber\" style = \"font-weight: bold; text-align: right;\">11</td><td style = \"text-align: right;\">5.0</td><td style = \"text-align: right;\">2769.47</td><td style = \"text-align: right;\">7.02461</td><td style = \"text-align: right;\">3.50337</td><td style = \"text-align: right;\">1076.49</td><td style = \"text-align: right;\">3.00736</td><td style = \"text-align: right;\">1.50088</td></tr><tr><td class = \"rowNumber\" style = \"font-weight: bold; text-align: right;\">12</td><td style = \"text-align: right;\">5.5</td><td style = \"text-align: right;\">2769.11</td><td style = \"text-align: right;\">7.03074</td><td style = \"text-align: right;\">3.85475</td><td style = \"text-align: right;\">1076.34</td><td style = \"text-align: right;\">3.00937</td><td style = \"text-align: right;\">1.6513</td></tr><tr><td class = \"rowNumber\" style = \"font-weight: bold; text-align: right;\">13</td><td style = \"text-align: right;\">6.0</td><td style = \"text-align: right;\">2768.76</td><td style = \"text-align: right;\">7.03754</td><td style = \"text-align: right;\">4.20645</td><td style = \"text-align: right;\">1076.19</td><td style = \"text-align: right;\">3.0116</td><td style = \"text-align: right;\">1.80182</td></tr><tr><td style = \"text-align: right;\">&vellip;</td><td style = \"text-align: right;\">&vellip;</td><td style = \"text-align: right;\">&vellip;</td><td style = \"text-align: right;\">&vellip;</td><td style = \"text-align: right;\">&vellip;</td><td style = \"text-align: right;\">&vellip;</td><td style = \"text-align: right;\">&vellip;</td><td style = \"text-align: right;\">&vellip;</td></tr><tr><td class = \"rowNumber\" style = \"font-weight: bold; text-align: right;\">990</td><td style = \"text-align: right;\">494.5</td><td style = \"text-align: right;\">759.46</td><td style = \"text-align: right;\">29.2402</td><td style = \"text-align: right;\">1991.3</td><td style = \"text-align: right;\">295.324</td><td style = \"text-align: right;\">11.3707</td><td style = \"text-align: right;\">774.305</td></tr><tr><td class = \"rowNumber\" style = \"font-weight: bold; text-align: right;\">991</td><td style = \"text-align: right;\">495.0</td><td style = \"text-align: right;\">758.053</td><td style = \"text-align: right;\">29.186</td><td style = \"text-align: right;\">1992.76</td><td style = \"text-align: right;\">294.777</td><td style = \"text-align: right;\">11.3496</td><td style = \"text-align: right;\">774.873</td></tr><tr><td class = \"rowNumber\" style = \"font-weight: bold; text-align: right;\">992</td><td style = \"text-align: right;\">495.5</td><td style = \"text-align: right;\">756.649</td><td style = \"text-align: right;\">29.1318</td><td style = \"text-align: right;\">1994.22</td><td style = \"text-align: right;\">294.231</td><td style = \"text-align: right;\">11.3286</td><td style = \"text-align: right;\">775.44</td></tr><tr><td class = \"rowNumber\" style = \"font-weight: bold; text-align: right;\">993</td><td style = \"text-align: right;\">496.0</td><td style = \"text-align: right;\">755.248</td><td style = \"text-align: right;\">29.0778</td><td style = \"text-align: right;\">1995.67</td><td style = \"text-align: right;\">293.686</td><td style = \"text-align: right;\">11.3076</td><td style = \"text-align: right;\">776.006</td></tr><tr><td class = \"rowNumber\" style = \"font-weight: bold; text-align: right;\">994</td><td style = \"text-align: right;\">496.5</td><td style = \"text-align: right;\">753.849</td><td style = \"text-align: right;\">29.0239</td><td style = \"text-align: right;\">1997.13</td><td style = \"text-align: right;\">293.142</td><td style = \"text-align: right;\">11.2866</td><td style = \"text-align: right;\">776.571</td></tr><tr><td class = \"rowNumber\" style = \"font-weight: bold; text-align: right;\">995</td><td style = \"text-align: right;\">497.0</td><td style = \"text-align: right;\">752.453</td><td style = \"text-align: right;\">28.9701</td><td style = \"text-align: right;\">1998.58</td><td style = \"text-align: right;\">292.599</td><td style = \"text-align: right;\">11.2657</td><td style = \"text-align: right;\">777.135</td></tr><tr><td class = \"rowNumber\" style = \"font-weight: bold; text-align: right;\">996</td><td style = \"text-align: right;\">497.5</td><td style = \"text-align: right;\">751.059</td><td style = \"text-align: right;\">28.9165</td><td style = \"text-align: right;\">2000.02</td><td style = \"text-align: right;\">292.057</td><td style = \"text-align: right;\">11.2448</td><td style = \"text-align: right;\">777.698</td></tr><tr><td class = \"rowNumber\" style = \"font-weight: bold; text-align: right;\">997</td><td style = \"text-align: right;\">498.0</td><td style = \"text-align: right;\">749.668</td><td style = \"text-align: right;\">28.8629</td><td style = \"text-align: right;\">2001.47</td><td style = \"text-align: right;\">291.516</td><td style = \"text-align: right;\">11.224</td><td style = \"text-align: right;\">778.26</td></tr><tr><td class = \"rowNumber\" style = \"font-weight: bold; text-align: right;\">998</td><td style = \"text-align: right;\">498.5</td><td style = \"text-align: right;\">748.28</td><td style = \"text-align: right;\">28.8094</td><td style = \"text-align: right;\">2002.91</td><td style = \"text-align: right;\">290.976</td><td style = \"text-align: right;\">11.2032</td><td style = \"text-align: right;\">778.82</td></tr><tr><td class = \"rowNumber\" style = \"font-weight: bold; text-align: right;\">999</td><td style = \"text-align: right;\">499.0</td><td style = \"text-align: right;\">746.894</td><td style = \"text-align: right;\">28.7561</td><td style = \"text-align: right;\">2004.35</td><td style = \"text-align: right;\">290.437</td><td style = \"text-align: right;\">11.1825</td><td style = \"text-align: right;\">779.38</td></tr><tr><td class = \"rowNumber\" style = \"font-weight: bold; text-align: right;\">1000</td><td style = \"text-align: right;\">499.5</td><td style = \"text-align: right;\">745.51</td><td style = \"text-align: right;\">28.7029</td><td style = \"text-align: right;\">2005.79</td><td style = \"text-align: right;\">289.899</td><td style = \"text-align: right;\">11.1618</td><td style = \"text-align: right;\">779.939</td></tr><tr><td class = \"rowNumber\" style = \"font-weight: bold; text-align: right;\">1001</td><td style = \"text-align: right;\">500.0</td><td style = \"text-align: right;\">744.13</td><td style = \"text-align: right;\">28.6498</td><td style = \"text-align: right;\">2007.22</td><td style = \"text-align: right;\">289.363</td><td style = \"text-align: right;\">11.1411</td><td style = \"text-align: right;\">780.496</td></tr></tbody></table></div>"
      ],
      "text/latex": [
       "\\begin{tabular}{r|ccccccc}\n",
       "\t& t & S1 & I1 & R1 & S2 & I2 & R2\\\\\n",
       "\t\\hline\n",
       "\t& Float64 & Float64 & Float64 & Float64 & Float64 & Float64 & Float64\\\\\n",
       "\t\\hline\n",
       "\t1 & 0.0 & 2773.0 & 7.0 & 0.0 & 1078.0 & 3.0 & 0.0 \\\\\n",
       "\t2 & 0.5 & 2772.65 & 6.99945 & 0.349984 & 1077.85 & 2.9997 & 0.149992 \\\\\n",
       "\t3 & 1.0 & 2772.3 & 6.99958 & 0.699956 & 1077.7 & 2.99963 & 0.299974 \\\\\n",
       "\t4 & 1.5 & 2771.95 & 7.00037 & 1.04995 & 1077.55 & 2.99979 & 0.449958 \\\\\n",
       "\t5 & 2.0 & 2771.6 & 7.00183 & 1.4 & 1077.4 & 3.00018 & 0.599957 \\\\\n",
       "\t6 & 2.5 & 2771.25 & 7.00395 & 1.75015 & 1077.25 & 3.0008 & 0.74998 \\\\\n",
       "\t7 & 3.0 & 2770.89 & 7.00675 & 2.10041 & 1077.1 & 3.00165 & 0.900041 \\\\\n",
       "\t8 & 3.5 & 2770.54 & 7.01021 & 2.45083 & 1076.95 & 3.00274 & 1.05015 \\\\\n",
       "\t9 & 4.0 & 2770.18 & 7.01434 & 2.80144 & 1076.8 & 3.00405 & 1.20032 \\\\\n",
       "\t10 & 4.5 & 2769.83 & 7.01914 & 3.15228 & 1076.64 & 3.00559 & 1.35056 \\\\\n",
       "\t11 & 5.0 & 2769.47 & 7.02461 & 3.50337 & 1076.49 & 3.00736 & 1.50088 \\\\\n",
       "\t12 & 5.5 & 2769.11 & 7.03074 & 3.85475 & 1076.34 & 3.00937 & 1.6513 \\\\\n",
       "\t13 & 6.0 & 2768.76 & 7.03754 & 4.20645 & 1076.19 & 3.0116 & 1.80182 \\\\\n",
       "\t14 & 6.5 & 2768.4 & 7.045 & 4.55851 & 1076.03 & 3.01406 & 1.95246 \\\\\n",
       "\t15 & 7.0 & 2768.04 & 7.05313 & 4.91096 & 1075.88 & 3.01676 & 2.10323 \\\\\n",
       "\t16 & 7.5 & 2767.67 & 7.06193 & 5.26384 & 1075.73 & 3.01968 & 2.25414 \\\\\n",
       "\t17 & 8.0 & 2767.31 & 7.0714 & 5.61717 & 1075.57 & 3.02284 & 2.4052 \\\\\n",
       "\t18 & 8.5 & 2766.95 & 7.08154 & 5.97099 & 1075.42 & 3.02622 & 2.55643 \\\\\n",
       "\t19 & 9.0 & 2766.58 & 7.09234 & 6.32533 & 1075.26 & 3.02984 & 2.70783 \\\\\n",
       "\t20 & 9.5 & 2766.22 & 7.10381 & 6.68023 & 1075.11 & 3.03368 & 2.85942 \\\\\n",
       "\t21 & 10.0 & 2765.85 & 7.11594 & 7.03573 & 1074.95 & 3.03776 & 3.0112 \\\\\n",
       "\t22 & 10.5 & 2765.48 & 7.12875 & 7.39184 & 1074.79 & 3.04207 & 3.1632 \\\\\n",
       "\t23 & 11.0 & 2765.11 & 7.14222 & 7.74861 & 1074.64 & 3.04661 & 3.31541 \\\\\n",
       "\t24 & 11.5 & 2764.74 & 7.15637 & 8.10607 & 1074.48 & 3.05138 & 3.46786 \\\\\n",
       "\t25 & 12.0 & 2764.36 & 7.17118 & 8.46426 & 1074.32 & 3.05639 & 3.62056 \\\\\n",
       "\t26 & 12.5 & 2763.99 & 7.18666 & 8.8232 & 1074.16 & 3.06162 & 3.7735 \\\\\n",
       "\t27 & 13.0 & 2763.61 & 7.20282 & 9.18294 & 1074.01 & 3.06709 & 3.92672 \\\\\n",
       "\t28 & 13.5 & 2763.24 & 7.21964 & 9.5435 & 1073.85 & 3.07279 & 4.08022 \\\\\n",
       "\t29 & 14.0 & 2762.86 & 7.23713 & 9.90491 & 1073.69 & 3.07873 & 4.23401 \\\\\n",
       "\t30 & 14.5 & 2762.48 & 7.2553 & 10.2672 & 1073.53 & 3.08489 & 4.3881 \\\\\n",
       "\t$\\dots$ & $\\dots$ & $\\dots$ & $\\dots$ & $\\dots$ & $\\dots$ & $\\dots$ & $\\dots$ \\\\\n",
       "\\end{tabular}\n"
      ],
      "text/plain": [
       "\u001b[1m1001×7 DataFrame\u001b[0m\n",
       "\u001b[1m  Row \u001b[0m│\u001b[1m t       \u001b[0m\u001b[1m S1       \u001b[0m\u001b[1m I1       \u001b[0m\u001b[1m R1          \u001b[0m\u001b[1m S2       \u001b[0m\u001b[1m I2       \u001b[0m\u001b[1m R2      \u001b[0m ⋯\n",
       "      │\u001b[90m Float64 \u001b[0m\u001b[90m Float64  \u001b[0m\u001b[90m Float64  \u001b[0m\u001b[90m Float64     \u001b[0m\u001b[90m Float64  \u001b[0m\u001b[90m Float64  \u001b[0m\u001b[90m Float64 \u001b[0m ⋯\n",
       "──────┼─────────────────────────────────────────────────────────────────────────\n",
       "    1 │     0.0  2773.0     7.0         0.0       1078.0     3.0        0.0    ⋯\n",
       "    2 │     0.5  2772.65    6.99945     0.349984  1077.85    2.9997     0.1499\n",
       "    3 │     1.0  2772.3     6.99958     0.699956  1077.7     2.99963    0.2999\n",
       "    4 │     1.5  2771.95    7.00037     1.04995   1077.55    2.99979    0.4499\n",
       "    5 │     2.0  2771.6     7.00183     1.4       1077.4     3.00018    0.5999 ⋯\n",
       "    6 │     2.5  2771.25    7.00395     1.75015   1077.25    3.0008     0.7499\n",
       "    7 │     3.0  2770.89    7.00675     2.10041   1077.1     3.00165    0.9000\n",
       "    8 │     3.5  2770.54    7.01021     2.45083   1076.95    3.00274    1.0501\n",
       "    9 │     4.0  2770.18    7.01434     2.80144   1076.8     3.00405    1.2003 ⋯\n",
       "   10 │     4.5  2769.83    7.01914     3.15228   1076.64    3.00559    1.3505\n",
       "   11 │     5.0  2769.47    7.02461     3.50337   1076.49    3.00736    1.5008\n",
       "  ⋮   │    ⋮        ⋮         ⋮           ⋮          ⋮         ⋮          ⋮    ⋱\n",
       "  992 │   495.5   756.649  29.1318   1994.22       294.231  11.3286   775.44\n",
       "  993 │   496.0   755.248  29.0778   1995.67       293.686  11.3076   776.006  ⋯\n",
       "  994 │   496.5   753.849  29.0239   1997.13       293.142  11.2866   776.571\n",
       "  995 │   497.0   752.453  28.9701   1998.58       292.599  11.2657   777.135\n",
       "  996 │   497.5   751.059  28.9165   2000.02       292.057  11.2448   777.698\n",
       "  997 │   498.0   749.668  28.8629   2001.47       291.516  11.224    778.26   ⋯\n",
       "  998 │   498.5   748.28   28.8094   2002.91       290.976  11.2032   778.82\n",
       "  999 │   499.0   746.894  28.7561   2004.35       290.437  11.1825   779.38\n",
       " 1000 │   499.5   745.51   28.7029   2005.79       289.899  11.1618   779.939\n",
       " 1001 │   500.0   744.13   28.6498   2007.22       289.363  11.1411   780.496  ⋯\n",
       "\u001b[36m                                                   1 column and 980 rows omitted\u001b[0m"
      ]
     },
     "execution_count": 65,
     "metadata": {},
     "output_type": "execute_result"
    }
   ],
   "source": [
    "index = range(1,stop=5001,step=5)\n",
    "df = df[index,:]"
   ]
  },
  {
   "cell_type": "code",
   "execution_count": 66,
   "id": "0138aeaa",
   "metadata": {},
   "outputs": [],
   "source": [
    "# X = Array([df.S1, df.I1, df.R1])"
   ]
  },
  {
   "cell_type": "code",
   "execution_count": 67,
   "id": "347e88fc",
   "metadata": {},
   "outputs": [
    {
     "data": {
      "text/plain": [
       "1001×3 Matrix{Float64}:\n",
       " 2773.0     7.0         0.0\n",
       " 2772.65    6.99945     0.349984\n",
       " 2772.3     6.99958     0.699956\n",
       " 2771.95    7.00037     1.04995\n",
       " 2771.6     7.00183     1.4\n",
       " 2771.25    7.00395     1.75015\n",
       " 2770.89    7.00675     2.10041\n",
       " 2770.54    7.01021     2.45083\n",
       " 2770.18    7.01434     2.80144\n",
       " 2769.83    7.01914     3.15228\n",
       " 2769.47    7.02461     3.50337\n",
       " 2769.11    7.03074     3.85475\n",
       " 2768.76    7.03754     4.20645\n",
       "    ⋮                \n",
       "  759.46   29.2402   1991.3\n",
       "  758.053  29.186    1992.76\n",
       "  756.649  29.1318   1994.22\n",
       "  755.248  29.0778   1995.67\n",
       "  753.849  29.0239   1997.13\n",
       "  752.453  28.9701   1998.58\n",
       "  751.059  28.9165   2000.02\n",
       "  749.668  28.8629   2001.47\n",
       "  748.28   28.8094   2002.91\n",
       "  746.894  28.7561   2004.35\n",
       "  745.51   28.7029   2005.79\n",
       "  744.13   28.6498   2007.22"
      ]
     },
     "execution_count": 67,
     "metadata": {},
     "output_type": "execute_result"
    }
   ],
   "source": [
    "X = Matrix(df[:, [:S1, :I1, :R1]])"
   ]
  },
  {
   "cell_type": "code",
   "execution_count": 68,
   "id": "9acfee3a",
   "metadata": {},
   "outputs": [
    {
     "data": {
      "text/plain": [
       "1001-element Vector{Float64}:\n",
       "   0.0\n",
       "   0.5\n",
       "   1.0\n",
       "   1.5\n",
       "   2.0\n",
       "   2.5\n",
       "   3.0\n",
       "   3.5\n",
       "   4.0\n",
       "   4.5\n",
       "   5.0\n",
       "   5.5\n",
       "   6.0\n",
       "   ⋮\n",
       " 494.5\n",
       " 495.0\n",
       " 495.5\n",
       " 496.0\n",
       " 496.5\n",
       " 497.0\n",
       " 497.5\n",
       " 498.0\n",
       " 498.5\n",
       " 499.0\n",
       " 499.5\n",
       " 500.0"
      ]
     },
     "execution_count": 68,
     "metadata": {},
     "output_type": "execute_result"
    }
   ],
   "source": [
    "t = df.t"
   ]
  },
  {
   "cell_type": "code",
   "execution_count": 69,
   "id": "f36ace42",
   "metadata": {},
   "outputs": [
    {
     "data": {
      "text/plain": [
       "Discrete DataDrivenProblem{Float64} ##DDProblem#358 in 1001 dimensions and 3 samples"
      ]
     },
     "execution_count": 69,
     "metadata": {},
     "output_type": "execute_result"
    }
   ],
   "source": [
    "prob = DiscreteDataDrivenProblem(X)"
   ]
  },
  {
   "cell_type": "code",
   "execution_count": null,
   "id": "8397b7b3",
   "metadata": {},
   "outputs": [],
   "source": []
  },
  {
   "cell_type": "code",
   "execution_count": 81,
   "id": "51b26182",
   "metadata": {},
   "outputs": [
    {
     "ename": "LoadError",
     "evalue": "MethodError: no method matching unique!(::Vector{Vector{Num}}, ::Bool)\n\u001b[0mClosest candidates are:\n\u001b[0m  unique!(\u001b[91m::AbstractArray{Equation}\u001b[39m, ::Bool) at ~/.julia/packages/DataDrivenDiffEq/fivVr/src/basis/type.jl:429\n\u001b[0m  unique!(\u001b[91m::AbstractArray{T}\u001b[39m, ::Any) where T<:Union{Num, Sym} at ~/.julia/packages/DataDrivenDiffEq/fivVr/src/basis/type.jl:409\n\u001b[0m  unique!(\u001b[91m::AbstractDataFrame\u001b[39m, ::Any) at ~/.julia/packages/DataFrames/KKiZW/src/abstractdataframe/abstractdataframe.jl:1572\n\u001b[0m  ...",
     "output_type": "error",
     "traceback": [
      "MethodError: no method matching unique!(::Vector{Vector{Num}}, ::Bool)\n\u001b[0mClosest candidates are:\n\u001b[0m  unique!(\u001b[91m::AbstractArray{Equation}\u001b[39m, ::Bool) at ~/.julia/packages/DataDrivenDiffEq/fivVr/src/basis/type.jl:429\n\u001b[0m  unique!(\u001b[91m::AbstractArray{T}\u001b[39m, ::Any) where T<:Union{Num, Sym} at ~/.julia/packages/DataDrivenDiffEq/fivVr/src/basis/type.jl:409\n\u001b[0m  unique!(\u001b[91m::AbstractDataFrame\u001b[39m, ::Any) at ~/.julia/packages/DataFrames/KKiZW/src/abstractdataframe/abstractdataframe.jl:1572\n\u001b[0m  ...",
      "",
      "Stacktrace:",
      " [1] Basis(eqs::Vector{Vector{Num}}, states::Vector{Num}; parameters::Vector{Any}, iv::Nothing, controls::Vector{Any}, implicits::Vector{Any}, observed::Vector{Any}, name::Symbol, simplify::Bool, linear_independent::Bool, eval_expression::Bool, kwargs::Base.Pairs{Symbol, Num, Tuple{Symbol}, NamedTuple{(:independent_variable,), Tuple{Num}}})",
      "   @ DataDrivenDiffEq ~/.julia/packages/DataDrivenDiffEq/fivVr/src/basis/type.jl:115",
      " [2] top-level scope",
      "   @ In[81]:5",
      " [3] eval",
      "   @ ./boot.jl:373 [inlined]",
      " [4] include_string(mapexpr::typeof(REPL.softscope), mod::Module, code::String, filename::String)",
      "   @ Base ./loading.jl:1196"
     ]
    }
   ],
   "source": [
    "@variables u[1:3]\n",
    "@parameters t\n",
    "u = collect(u)\n",
    "h = [monomial_basis(u, 2),]\n",
    "basis = Basis(h, u, independent_variable = t)\n",
    "println(basis)\n"
   ]
  },
  {
   "cell_type": "code",
   "execution_count": 79,
   "id": "3c1e2be2",
   "metadata": {},
   "outputs": [
    {
     "name": "stdout",
     "output_type": "stream",
     "text": [
      "Linear Solution with 1000 equations and 5981 parameters.\n",
      "Returncode: solved\n",
      "L₂ Norm error : [7015.532098699754, 19966.09017003004, 51340.95888712834, 25431.293104579017, 15.769475155197306, 13.900662697160897, 12.07895674391375, 10.451419506045745, 8.940586660745264, 7.537068028937446, 6.236552211226404, 5.092907482557436, 4.070884996478799, 3.1699095959912915, 2.357778041634294, 1.6541742070106054, 1.1058898095463743, 0.6770255389730975, 0.36723515595688344, 0.1603792801098331, 0.07105099729317793, 0.07364285831621413, 0.23164350526272148, 0.5079433633178975, 0.906174967726581, 1.4076331870308851, 2.046244916889556, 2.7955871199244644, 3.6633919202051395, 4.649838291597254, 5.702906330111744, 6.897281717630857, 8.238304605365684, 9.699532469633446, 11.281408212771947, 12.999623897636145, 14.81669344471524, 16.756158595334593, 18.826136030906902, 21.01979351943549, 23.3456921166297, 25.789056342494803, 28.35089437813977, 31.047615498446078, 33.872486955685034, 36.849337677595045, 39.911049976199934, 43.12708603700988, 1.2222175718857708, 0.6274568455659584, 6.342054060703544, 0.1991092380851018, 0.2366648347874079, 0.6230851291350055, 2.9178043149258386, 2.185705547590966, 3.3602253716701935, 0.5012544592825949, 0.22610985410986012, 0.19366136001729745, 0.5175099529752056, 1.0494605258008185, 1.8370373473090464, 1.426940858911677, 0.7165379691034417, 0.3156883325087234, 0.17511089260960602, 0.34226943476010663, 4.228744141397255, 1.6881317467717858, 2.641136564774585, 0.8885327982352016, 0.3935679046860857, 0.19887384772563074, 0.25063043642322236, 0.7699404878453247, 1.3736240402337645, 1.7350846160797466, 3.7509883455574644, 0.41201637677913716, 0.21105734188741215, 0.3375532634878874, 0.7880300981986449, 1.498097592321516, 2.739332120071618, 0.8065074196194786, 0.35416938518749275, 0.21084625255309952, 5.496299278171569, 1.091088639347711, 2.1050899153962632, 1.2404080832090725, 0.5868776625823646, 0.2436866591076129, 6.6760678419491395, 0.6454588588978163, 1.7373818877517588, 1.6017561318018168, 0.7915248249748332, 0.35157602752626577, 0.295401035979787, 0.5768839862920797, 1.423458212092501, 2.6592281634049764, 0.896780797504144, 0.40796263101949165, 0.31037234298121386, 0.5736766196721212, 3.113682204021414, 16.452168501089208, 39.67062685323375, 73.02973699642547, 65.95733020691723, 57.8289774606299, 18.76813310455306, 43.81728868015571, 37.83369210873133, 31.784451122768356, 512.5251928098932, 536.1220289265523, 436.2762310813358, 458.44848681110943, 480.6763385706396, 28.37427249738733, 23.293992566899043, 49.548367992771894, 41.93140737777152, 35.60225925545334, 29.507524847420147, 23.658271302363254, 50.58256377140832, 42.91049810764341, 36.09615091031922, 29.307975947916088, 23.8402852898723, 49.97094252364839, 41.913739119490906, 35.206754547352396, 28.90015991770928, 56.849434941853765, 48.24469124444179, 458.7910206888113, 484.67345655779906, 511.686332039578, 417.49530342900425, 442.0671588119188, 36.84195581951652, 30.03011151897062, 58.44908252806721, 48.51346341287884, 40.64592955513255, 32.77651672013115, 61.857951337227306, 51.641435057226914, 42.37356305856287, 34.75223305690559, 64.00460283462044, 53.6256508347413, 44.182645048881675, 35.77406035602354, 388.8346380938728, 416.47702208687303, 444.58235927690737, 473.55833159454255, 390.85256058824, 53.88909038612111, 43.98403218003173, 75.15384775431835, 63.920513523162306, 52.309815565429446, 41.89584067933968, 71.64341229326914, 60.29028290845719, 49.182571933787, 81.27348423239356, 68.28286566464485, 56.29064370681398, 443.3541633702942, 366.8445095109035, 396.56594667248385, 427.40031736861897, 590.8258016686771, 8.08873954216912, 4.315928827964542, 2.0183527142984863, 0.9819831746262458, 1.3355339867665752, 3.07133361599314, 6.249992987782376, 10.917567751203922, 17.12065309846605, 24.788302493024048, 34.01049468405061, 44.90898366123254, 56.64642430633881, 71.82526291399236, 86.69970881483427, 308.2953149451515, 276.13466381749663, 248.7071729215312, 219.95033292747584, 192.98421330569445, 167.8026496907923, 143.8332008860862, 121.97463727987977, 101.82931957483333, 349.9312568471025, 385.73808341308916, 427.6001262252104, 466.98940579655664, 27.481040714056064, 18.252979711611573, 10.781070166016734, 5.77942921695877, 2.5038533310727806, 1.335408372135775, 2.530300139897799, 5.945346716357282, 953.4536796961719, 19.733455066728805, 29.543397839143694, 42.68922710314183, 56.712034175275605, 369.3345690303948, 327.5981215855093, 288.3891258194718, 251.70081470704267, 217.2585620279294, 185.86176516646094, 154.476454853329, 273.6330975201868, 311.6032539246995, 356.0405556032238, 402.0964734732993, 45.053578354333105, 30.61698888817938, 19.109248564034207, 10.523625557517502, 4.821781045181729, 2.2803401665298395, 815.2314966115001, 885.4481730949192, 13.036780010772318, 23.53537769186803, 35.947154799386134, 426.2575475871022, 374.5998920640779, 325.96551554966294, 280.7315153640394, 238.89200366159196, 191.26821514745703, 228.65700492068794, 272.9819906264732, 317.3013586680059, 368.25957547626024, 54.20495650899326, 36.461173004414505, 21.931590454936625, 228.00588353710174, 185511.57410905673, 1.5934063274481457e6, 4.3848081625633845e6, 8.559042301039813e6, 8.557837270843623e6, 1.5465040935087662e7, 9.616032459755976e6, 5.150107404926893e6, 2.0672631538018724e6, 1.2216583471064498e6, 193653.12808481412, 50749.80562526191, 792988.805052468, 3.5662204964490673e6, 7.398558106321555e6, 7.3974076064081825e6, 1.2612456781191755e7, 1.093323015904997e7, 6.125428113163929e6, 2.700362033648842e6, 658852.8106631936, 156825.92429475652, 124185.60858576575, 1.1514838948972363e6, 3.118828532003902e6, 6.322318585908139e6, 1.1195737063864779e7, 1.2333065180335743e7, 7.1838272650926085e6, 3.4176426609673724e6, 1.0345101386073887e6, 1.0349407328039126e6, 21606.117507603616, 801704.7278934087, 2.9827304978471985e6, 5.331934813614456e6, 9.621591489767162e6, 1.4108151318950925e7, 8.552719347869229e6, 4.380334387422444e6, 1.5909959413105866e6, 5.264784485091968e7, 159981.26550635567, 1.3187567685869052e6, 3.259931821901111e7, 2.379491148145896e7, 1.5707310791094098e7, 9.807335517376961e6, 5.290405791904214e6, 3.8654096397606544e7, 4.9685871527383514e7, 36436.196078581735, 1.0768342148078044e6, 3.6461996445853817e6, 7.666407546287968e6, 1.6705002168492453e7, 1.1147286122602629e7, 6.305344793747717e6, 2.8205345070938077e6, 718857.9897404696, 265.97906920949407, 2.71305744830633e6, 4.605389665261665e6, 9.36842183673258e6, 1.3793510565016001e7, 2.4697330728309132e7, 3.5583160674473643e6, 1.112492889261332e6, 49800.768916358255, 370216.3119589686, 3.905604332383703e7, 2.5019819755472865e7, 1.3554427408224406e7, 2.112669738345442e7, 3.1296459250938065e7, 4.129360940834952e7, 186568.822978497, 5.311400080311123e7, 3.1635591980523083e7, 8.367648823792393e6, 1.3257596284821996e7, 2.152168881534524e7, 5.299073908052314e6, 2.16201777575428e6, 37262.98948011581, 1.0498158152809232e6, 9.104680766538188e7, 7.203915553349518e6, 1.473998206718223e7, 8.073063218742291e6, 3.29650667174541e6, 714706.9640051041, 191.75645289344456, 2.7087157792399847e6, 6.13758916837241e6, 1.094958651616608e7, 1.8934154835504394e7, 2.9031814612992894e7, 7.9842935978453e7, 6.2564892082914226e7, 369010.53826136707, 5.156820835968984e6, 9.625318445801133e6, 1.5477754577733664e7, 6.713414790211511e6, 2.2797305175289153e6, 5.186125897431605e7, 160763.2390482413, 4.261579032498034e6, 2.297724861126891e7, 1.5696195984415524e7, 9.798308047698628e6, 2.66718958797514e6, 5.088937314655557e7, 37102.510184569896, 2.9704888054369825e8, 3.264070642846306e8, 1.2568186811623213e8, 1.6574589056087035e8, 4.6104411183154523e8, 5.100201865003487e8, 5.62650929406978e8, 6.109930670400404e8, 6.959952241158966e8, 7.405677685552362e8, 1.2766814543795424e9, 8.824785074362683e8, 9.325814960249871e8, 1.0050513198299105e9, 1.0911963913737683e9, 1.1468384700763226e9, 1.134423138448206e9, 1.0790931990764427e9, 1.0251464382942924e9, 9.366050799478536e8, 1.3784236884545465e9, 1.2635794812248287e9, 7.305972078354838e8, 6.863304205188934e8, 6.019396944273883e8, 5.618181459564741e8, 5.005049951663633e8, 4.497619603106683e8, 1.6104325053881907e8, 3.502256228157872e8, 3.197892570725684e8, 2.6306220628794485e8, 2.3677595052784002e8, 4.0591312697589904e7, 4.2003532096963954e8, 3.5775742352217776e8, 3.269877823177116e8, 6.21939753515213e8, 5.417372098831514e8, 5.0370939142001617e8, 4.387498148512259e8, 3.8804181875029635e8, 3.3433529842348886e8, 3.046125651290237e8, 2.4931060260133436e8, 2.2373831540453067e8, 4.4024375755497324e8, 4.026882952081853e8, 3.5417284931861514e8, 3.117007235774452e8, 2.5572925985610175e8, 2.2982011523252296e8, 1.8215024253508073e8, 4.126655769237079e9, 3.338492041229708e9, 3.4842230426313066e9, 3.680011601086785e9, 3.7816137762015457e9, 3.9889774594418883e9, 4.0947308210609765e9, 4.266820519957715e9, 4.431366091024171e9, 3.655562514071946e9, 2.4342938990787828e8, 1.9428760320074764e8, 1.7179309737825543e8, 1.309529622957138e8, 1.0910394764509195e8, 8.459692812428136e7, 6.587580793737398e7, 1.9995251724078584e8, 1.771221394159865e8, 1.35608245169144e8, 1.1042579701709011e8, 8.524840830153112e7, 6.919057966265237e7, 4.428173147172125e7, 3.0751564371187765e7, 1.4034573875706843e8, 1.0369796906089559e8, 8.590124560556386e7, 6.344270161145317e7, 4.7005785122427054e7, 2.6962362238371704e7, 1.9016354209589433e7, 7.274483422559169e6, 8.501279937960805e7, 6.356205959377103e7, 4.9810296306127876e7, 2.9096140757201064e7, 1.3916077980012381e7, 8.402226296782743e6, 1.5254562051964896e6, 43777.99496917566, 4.3476374131020784e7, 3.130962341267224e7, 1.5459935592636634e7, 9.610722710489089e6, 2.0636113589836098e6, 17799.719782413424, 1.3043090277511429e6, 7.411889933162706e6, 1.708428132308895e7, 6.099497752513681e6, 2.682715266952533e6, 672.9735339520737, 5.727061131689749e9, 6.161759402070584e6, 1.7189114380110152e7, 2.4778166275605056e7, 1.094624536356951e6, 45992.14858010112, 1.645824768632498e6, 6.545003439657734e6, 1.5560231011957034e7, 2.281443231617772e7, 4.147415239687576e7, 6.5670626335326694e7, 1.846512456923707e6, 3.253405300337618e8, 3.6551871577789575e8, 4.3190179144578785e8, 4.6716741604147327e8, 5.418495227866243e8, 5.812666717283936e8, 6.642516693288496e8, 7.316279222867957e8, 7.991139529972476e8, 8.959374756668341e8, 9.464256320189415e8, 1.0515586278515397e9, 1.1224883588397534e9, 1.209964932171309e9, 1.278420064935241e9, 1.4001529937594283e9, 1.4843946018471808e9, 1.593140313026032e9, 1.7287127797559984e9, 1.805639781491078e9, 1.915663650996484e9, 2.0164718063259733e9, 2.168652002909322e9, 2.2468206018188453e9, 2.407304259869514e9, 2.517370990194622e9, 2.6498425140559287e9, 5.994787548957248e8, 5.2077993504199535e8, 4.7138685313354105e8, 4.1310932580627096e8, 9.131085893297972e9, 8.95705039346859e9, 8.722430818505598e9, 8.506242586487412e9, 8.202137698161245e9, 8.052156409524987e9, 7.756354334125973e9, 7.576215830139143e9, 7.356263313133533e9, 7.181329713501423e9, 6.902133718024124e9, 2.9059984843168817e7, 1.3890417609285926e7, 8.381784048914825e6, 1.7283420329898382e6, 4486.866009522707, 1.5977721578325317e6, 4.393148745700308e6, 1.4134871066325154e7, 2.1081825083710376e7, 3.912689959707201e7, 5.546612208537913e7, 7.560853434828031e7, 9.182676006050426e7, 1.2647895307249501e8, 1.4588169579969817e8, 1.8884006838022184e8, 2.2303099504276675e8, 2.6185665890118054e8, 2.913610538856046e8, 3.5092393915350306e8, 3.8278655244998e8, 4.5065326555996007e8, 4.866644899007676e8, 5.588959791721703e8, 6.180713746887208e8, 6.874745461032379e8, 7.317905310834643e8, 8.245698517005413e8, 8.73038014268853e8, 9.741205817682528e8, 1.0374298078153286e9, 1.1193674086410146e9, 1.1928997837145863e9, 1.3105899544153337e9, 1.5889251682978358e9, 1.4590592364975288e9, 1.3952867494825604e9, 1.3045073813569994e9, 1.2217381174847732e9, 1.158600060072983e9, 1.0481110432429702e9, 9.949397990069883e8, 8.927543102212533e8, 8.352138092026846e8, 7.6818015555818e8, 7.035086567803777e8, 6.473101121004963e8, 5.78687132092757e8, 5.393513152613323e8, 4.6484502281906724e8, 4.2188522215715766e8, 3.741120685103561e8, 3.29409901237763e8, 2.837985917511943e8, 2.4765876376860043e8, 2.2216788955614123e8, 4.046852624323863e9, 4.1734219762554874e9, 4.32672112539665e9, 4.481287034161091e9, 4.593355397037963e9, 4.821632318156234e9, 4.937852781282441e9, 5.174447783988659e9, 5.299825389805296e9, 5.469763365256912e9, 5.643382499309762e9, 5.790138978836297e9, 6.046110909991879e9, 2.933399848749828e6, 6.474989137924693e6, 1.7709775499466956e7, 2.7108308852750365e7, 4.023949401952224e7, 5.67884447008023e7, 7.001867719683309e7, 1.0062934547369362e8, 1.1801180838671516e8, 1.3677841460922527e8, 1.740439954827867e8, 2.0612915165507346e8, 2.513661896879411e8, 3.6251057235134907e9, 3.525621373659721e9, 3.330818087094337e9, 3.2354859262430367e9, 3.1105332855347724e9, 2.985014756142779e9, 2.8620689961642866e9, 2.7795958365400014e9, 2.60693860473526e9, 2.522681133775509e9, 2.439807729220766e9, 2.2782221502457047e9, 2.1891006948477817e9, 2.0865413641187308e9, 1.9716407392664127e9, 1.898455697824353e9, 1.8266547321017478e9, 1.6872046274625287e9, 1.6195559045138874e9, 1.525009363834421e9, 1.4417163136960337e9, 1.3566744136212204e9, 1.3020731503913832e9, 1.1847753343056817e9, 1.128199113927668e9, 1.0730069789633775e9, 9.667808797929581e8, 9.190937886526611e8, 8.546928957401725e8, 7.709249552007047e8, 7.254212643927329e8, 6.813016617005336e8, 6.385661472957006e8, 5.572471131612124e8, 5.181587622712541e8, 3.0430375137794356e9, 3.1635181349426126e9, 3.2958814165814977e9, 3.3921021342470284e9, 3.489695432821716e9, 3.689022947021523e9, 3.790769278140414e9, 3.917814005528764e9, 4.05118613887309e9, 4.186432736669602e9, 4.320254355129663e9, 4.430306736999246e9, 4.654548576867837e9, 4.768751790685943e9, 4.884340500214059e9, 5.036276786220264e9, 2.373705327625653e7, 1.4792301510458024e7, 8.110079662153424e6, 4.063905013909271e6, 124064.5426945739, 230118.83438263065, 1.720312011336575e6, 5.52932946490365e6, 1.1500755772892624e7, 1.9267903154369827e7, 2.993235786826915e7, 3.9726972828931324e7, 5.0905658725595415e7, 7.741364340672651e7, 9.274438693275453e7, 1.1044983465078762e8, 1.3261995298849262e8, 1.5730290939825392e8, 1.9015940456759652e8, 2.137945796242227e8, 2.388138237714366e8, 2.6522039426664945e8, 3.12299760182467e8, 3.527318316662275e8, 3.814155429812526e8, 4.2140321770209956e8, 4.5270283473409873e8, 5.011374977968182e8, 5.651308880588666e8, 6.05374905079631e8, 6.470029879308815e8, 6.90015136187302e8, 2.4418855732341166e9, 2.346900964321007e9, 2.2511778861546674e9, 2.157447799302837e9, 2.0808604421880133e9, 2.0056571592063596e9, 1.9075386921518376e9, 1.7883509194665906e9, 1.7186839391267624e9, 1.6526545865432773e9, 1.574687603050292e9, 1.5179874393257911e9, 1.4538567526423228e9, 1.3297468339757795e9, 1.2697683729107158e9, 1.211173984241831e9, 1.1539628524843001e9, 1.087137433040321e9, 1.0258545426786385e9, 9.646261531461048e8, 2.213313790281613e9, 2.2922801426539717e9, 2.372631547238683e9, 2.454367061575711e9, 2.5374856766146474e9, 6.599722591468441e8, 6.001316519943541e8, 5.561344317389348e8, 5.125559216267504e8, 4.6356419175562304e8, 4.284336597020373e8, 3.946872580954842e8, 3.6232536675477874e8, 3.313472068442006e8, 3.0175352211068565e8, 2.6085488397143924e8, 2.3213394719961774e8, 2.0429145941543773e8, 1.7454737245552564e8, 1.532584022664008e8, 1.3335348435397688e8, 1.1483261788797253e8, 9.769580205601762e7, 8.194303606300133e7, 6.309111710645622e7, 4.939184437665137e7, 3.7367237845230125e7, 2.3939775115048006e7, 1.6491317709517434e7, 1.0426905493859293e7, 5.746058867685359e6, 2.4499013191829007e6, 537786.9314736215, 22873.839130686058, 1.0843719601448956e6, 3.7197214835666446e6, 6.729748060984925e6, 1.173852539761143e7, 1.8130822928007677e7, 2.5907159237285405e7, 4.194265752479958e7, 5.7539163017680615e7, 7.085151385191534e7, 8.099589882835087e7, 9.720735003655498e7, 1.154916647694838e8, 1.3794362351833814e8, 1.581763162757295e8, 1.79793042448276e8, 2.0279380147291496e8, 2.2718160774630186e8, 2.529505971431169e8, 2.8186980032411504e8, 3.1157021248555297e8, 3.426555326707535e8, 3.720027373047287e8, 4.025560002102178e8, 4.3663334755354977e8, 4.720907094661112e8, 5.089320985115716e8, 5.471577012400937e8, 5.867678277138678e8, 6.401883476147944e8, 6.845727243745762e8, 7.28796168292544e8, 7.590493771453555e8, 8.055796398335795e8, 8.534945422745367e8, 2.1948079293385887e9, 2.1175544844764125e9, 2.0416842083607707e9, 1.9671989244845579e9, 1.8652469533235078e9, 1.7964329642774158e9, 1.7266065133980696e9, 1.683096857068828e9, 1.6155319584352224e9, 1.5493503414258008e9, 1.4689277815452888e9, 1.5333870362001948e9, 1.5992295700048666e9, 1.6664561486603801e9, 1.7526653224882517e9, 1.8215895401704743e9, 1.8908778582935784e9, 1.9541077505530863e9, 2.0233541814173267e9, 2.0988841767688808e9, 2.175798177060607e9, 2.254096181253489e9, 2.3337781882838683e9, 2.414844197062816e9, 2.497304201560133e9, 2.5726934404180655e9, 2.6549151912123437e9, 2.7384305836917887e9, 2.8409448878690305e9, 5.172680283807197e8, 4.801207474524348e8, 4.4435327258054304e8, 4.099741997638035e8, 3.769791451678654e8, 3.662851310796358e8, 3.3310960370223844e8, 3.053711363682899e8, 2.7791334933012164e8, 2.5883673310408825e8, 2.327588313465819e8, 2.0806815976440653e8, 1.847615002174917e8, 1.6283885196857738e8, 1.4230021429204744e8, 1.23145586473518e8, 1.0537496780957173e8, 9.483355093599606e7, 7.98184125575923e7, 6.700122927799749e7, 6.0364487463417344e7, 4.8130185139243945e7, 3.727988815483821e7, 2.78135958717115e7, 1.9731307659606304e7, 1.3032301265867269e7, 7.718185745911332e6, 3.7880724529256057e6, 1.8604139533672277e6, 378576.2196493404, 17799.94328255836, 301809.57276426983, 1.9078149320559928e6, 4.898262108892617e6, 9.27243109736146e6, 1.5030597846193323e7, 2.2172765564921852e7, 3.069906651153437e7, 4.0609410589990504e7, 4.646142599542461e7, 5.722856850422119e7, 6.865649043749738e7, 7.963277284088528e7, 4.51518812654963e9, 4.404084370043824e9, 4.2943646561482396e9, 4.1860276903431826e9, 4.0790760766056995e9, 4.0790660725603094e9, 3.973498642739501e9, 3.850709512980524e9, 3.763111756621029e9, 3.671816288329651e9, 3.588282782900933e9, 3.46641972777362e9, 3.433834734058877e9, 3.3691475715376515e9, 3.2732685840271587e9, 3.1787725048929715e9, 3.08566160544322e9, 2.9939347409428515e9, 2.9035919108886228e9, 2.861903329506966e9, 2.7852851472976193e9, 2.7125946361469207e9, 2.6380053442749677e9, 2.5560491572329845e9, 2.472627690102679e9, 2.3905902208168454e9, 2.390583766702488e9, 2.309930414520144e9, 2.230661058868224e9, 9.27719307177376e8, 9.790919850735689e8, 1.007055542977937e9, 1.0533328199479568e9, 1.0969735127833023e9, 1.1433745268608322e9, 1.1984025674272943e9, 1.256689127250716e9, 1.2764311004333537e9, 1.3163715883740115e9, 1.3774263557740364e9, 1.4398650938958147e9, 1.5036878019916837e9, 1.5688944793017344e9, 1.5953677142980168e9, 1.6512263246247592e9, 1.7057547479417708e9, 1.7611689391386907e9, 1.8435748744636493e9, 1.8435802892557828e9, 1.915707149817426e9, 1.989217973492083e9, 2.064112759400422e9, 2.1403915066476336e9, 2.1403972736506422e9, 2.2180600693388543e9, 2.299555443753687e9, 2.3640473764942207e9, 2.4292052366853204e9, 2.492479264587411e9, 2.5425671318948956e9, 2.6271499805104275e9, 2.7131167879006014e9, 2.800467553594449e9, 2.800474014086276e9, 2.889208825453014e9, 2.979338511004898e9, 3.070841402558695e9, 3.0708481183848834e9, 3.1849805164243364e9, 3.258005943081767e9, 3.331219158907574e9, 3.4052462715198197e9, 3.4507066421466775e9, 3.549129481576277e9, 3.648948356163557e9, 3.750139268422378e9, 3.7501465710271964e9, 3.8527215205535154e9, 3.95668079931872e9, 4.0620250592365365e9, 4.0620340094326706e9, 4.1877607382091193e9, 4.26962560748978e9, 1.1914034409369616e8, 1.0619482738703829e8, 9.561355885469255e7, 8.103254572852017e7, 6.674799139927773e7, 6.674686845329626e7, 5.384642414047856e7, 4.2329975328687884e7, 3.219752153130561e7, 3.2196744639789358e7, 2.344839787632128e7, 1.608396465485667e7, 1.2135517537948607e7, 8.2573458900687555e6, 5.123474133224654e6, 2.7339147465459933e6, 466444.7061461603, 466347.64502376615, 22193.18790856253, 962028.9273036364, 1.5830576015137576e6, 3.2860912090348694e6, 5.510284711726411e9, 5.38747635528152e9, 5.387466575649559e9, 5.254381556541972e9, 5.165914930307415e9, 5.082547358509691e9, 4.999843835560342e9, 4.913945252985167e9, 4.794172141033371e9, 4.794164396212833e9, 4.67966181768421e9, 4.566543205355269e9, 4.491897185463548e9, 4.454801146019651e9, 4.344450568779577e9, 4.2354839561639185e9, 4.2354637529384613e9, 4.123642524434226e9, 4.0498649047610817e9, 3.976089079646678e9, 3.9029914409885416e9, 3.830571988501577e9, 3.7113848343919787e9, 3.7113781957067246e9, 3.6107158338856735e9, 3.5114374328436995e9, 3.5114191634029784e9, 3.413524990342135e9, 3.3170147769083996e9, 3.3170085777757382e9, 3.2218824240298853e9, 3.128140228743367e9, 3.0879446510997577e9, 3.0266170003302016e9, 5.0159802232073015e8, Inf]\n"
     ]
    },
    {
     "name": "stdout",
     "output_type": "stream",
     "text": [
      "AIC : [11979.711763682442, 11981.80358124413, 11983.692488262888, 11982.287471413389, 11967.516152238406, 11967.26387303011, 11966.982929653037, 11966.693475614169, 11966.381202418079, 11966.039666501634, 11965.660854998856, 11965.255697764258, 11964.807720839339, 11964.307406137736, 11963.715439335518, 11963.006603831458, 11962.201300536864, 11961.21990743392, 11959.99649423161, 11958.339572463467, 11956.71128522392, 11956.782943782706, 11959.074888591267, 11960.645229345699, 11961.802954259052, 11962.68381940644, 11963.43201273118, 11964.056084290687, 11964.596778944793, 11965.073664885987, 11965.481951854741, 11965.862254760033, 11966.217589141952, 11966.544155370682, 11966.84631215967, 11967.129840852183, 11967.391508961166, 11967.637531736056, 11967.870492237585, 11968.090929084696, 11968.300824950602, 11968.499900458339, 11968.689317154813, 11968.87104401978, 11969.045206181276, 11969.213675290006, 11969.373306454629, 11969.528302492108, 11962.401333781268, 11961.067839235306, 11965.69440540063, 11958.772196660468, 11959.11777932404, 11961.053855748694, 11964.141662772967, 11963.563877363002, 11964.424016093255, 11960.618717191846, 11959.026531364647, 11958.716711575766, 11960.682546957549, 11962.09655249437, 11963.21630827325, 11962.71106578657, 11961.3333519187, 11959.694000316744, 11958.515328332622, 11959.855685937697, 11964.88381011138, 11963.047244884327, 11963.942418682946, 11961.763632564192, 11960.134996679797, 11958.769830827392, 11959.232448420615, 11961.477115888732, 11962.63490506415, 11963.10211236457, 11964.644038728144, 11960.226615638083, 11958.888749160145, 11959.827936073241, 11961.52356201166, 11962.80839206277, 11964.015428277778, 11961.569915636634, 11959.924040017884, 11958.886747856011, 11965.408150014506, 11962.174351899032, 11963.48871636275, 11962.430880849675, 11960.934122215704, 11959.17625587411, 11965.797058335627, 11961.124412388051, 11963.104758635747, 11962.942201219437, 11961.532411928627, 11959.909341406814, 11959.5611571963, 11960.899771807382, 11962.706178543114, 11963.956071833109, 11961.782112360615, 11960.206840601179, 11959.660034808274, 11960.888621156433, 11964.271612028522, 11967.600914584596, 11969.361222072192, 11970.581733428633, 11970.378016041863, 11970.114979980397, 11967.864320767974, 11969.560056916453, 11969.266400062517, 11968.917954423607, 11974.478699733014, 11974.568723602133, 11974.156551200524, 11974.255695867656, 11974.350388301655, 11968.690965673228, 11968.296390995161, 11969.805898647319, 11969.472070251111, 11969.144818196153, 11968.769290620785, 11968.327425583475, 11969.847213854822, 11969.518233014262, 11969.172372473342, 11968.755719391262, 11968.342753617966, 11969.822883373936, 11969.471227351585, 11969.122475909491, 11968.727694257175, 11970.08081256138, 11969.75257159142, 11974.257189627533, 11974.366950757463, 11974.475423609136, 11974.068546589911, 11974.182923627099, 11969.213274599082, 11968.804401191148, 11970.136311982196, 11969.763682711126, 11969.40979739407, 11968.979424610638, 11970.249681297957, 11969.888648710474, 11969.493049310007, 11969.096487661152, 11970.317910000129, 11969.964055027905, 11969.57666413205, 11969.154446119435, 11973.926308316732, 11974.063662582052, 11974.194270646007, 11974.320550194849, 11973.936660811954, 11969.973856105436, 11969.567653326107, 11970.639074631754, 11970.315280670535, 11969.914368063153, 11969.470373108408, 11970.543402414352, 11970.198341889902, 11969.791078663513, 11970.795639632306, 11970.447317732716, 11970.06105666991, 11974.18873783298, 11973.80987615694, 11973.965684698487, 11974.115442170882, 11974.763042444258, 11966.180945829004, 11964.924625113967, 11963.404563381502, 11961.963637790888, 11962.57866240393, 11964.244223739754, 11965.665160683586, 11966.780746424203, 11967.680571036522, 11968.420743736458, 11969.053338288333, 11969.609275712553, 11970.073657732883, 11970.548472530678, 11970.924901050488, 11973.462116276723, 11973.241777318217, 11973.032552384113, 11972.78680352289, 11972.525216778431, 11972.245577169351, 11971.937308602033, 11971.607626263945, 11971.24659614838, 11973.715473452368, 11973.910317197544, 11974.11637694869, 11974.292613143502, 11968.626992676654, 11967.80865667714, 11966.755583667678, 11965.508609852834, 11963.83566175534, 11962.578474283613, 11963.856675856148, 11965.565217698215, 11975.720181689245, 11967.96463084425, 11968.77172059102, 11969.507893191474, 11970.075972862327, 11973.823405848767, 11973.583575236193, 11973.328621398994, 11973.056482277907, 11972.76217634863, 11972.450006398749, 11972.080083377907, 11973.223576297802, 11973.483461513151, 11973.750089289195, 11973.993384087184, 11969.615704823258, 11968.84311009464, 11967.900344871738, 11966.707245565363, 11965.146286742516, 11963.648649255369, 11975.40694423566, 11975.572187854204, 11967.135549188633, 11968.317009445635, 11969.164099875527, 11974.11008747078, 11973.851717003747, 11973.573583190499, 11973.274797502503, 11972.952023164567, 11972.507353421544, 11972.864446171263, 11973.218811649216, 11973.519703961094, 11973.81757611531, 11969.98554470554, 11969.192495882195, 11968.17585616793, 11972.858742867218, 11986.261745106403, 11990.562769253913, 11992.587312868542, 11993.924997722279, 11993.924716121839, 11995.108185222096, 11994.1578846227, 11992.909056255496, 11991.083472285021, 11990.031439589206, 11986.347647676206, 11983.669326133706, 11989.167128766614, 11992.174033816971, 11993.633591377384, 11993.633280346678, 11994.700391033946, 11994.414634695939, 11993.255918415958, 11991.617792817045, 11988.796510871956, 11985.92578341349, 11985.459065137735, 11989.913124023902, 11991.905936037534, 11993.319193127407, 11994.462087289026, 11994.655588879139, 11993.574685688567, 11992.088923181915, 11989.69887715322, 11989.699709440101, 11981.961463543037, 11989.188991298697, 11991.816699426807, 11992.978449469405, 11994.159040488972, 11994.92452659207, 11993.923519685455, 11992.585271247199, 11990.559741512572, 11997.558271724401, 11985.96562399355, 11990.184400017542, 11996.599603865181, 11995.969964624965, 11995.139273634837, 11994.197282371639, 11992.962811020274, 11996.940326628766, 11997.4424623511, 11983.006635914604, 11989.779072023784, 11992.218391979752, 11993.704717372688, 11995.262437527168, 11994.453413258338, 11993.313816423302, 11991.704873932953, 11988.970838212806, 11973.166835237007, 11991.627173533225, 11992.685475683911, 11994.105710425572, 11994.879417581227, 11996.044411456158, 11992.169595952319, 11989.844227802654, 11983.631571405962, 11987.643685481418, 11996.961016361778, 11996.07035771792, 11994.84444759583, 11995.732096154985, 11996.518031052277, 11997.072436620167, 11986.273110948014, 11997.575902240133, 11996.539586746445, 11993.879766995684, 11994.80016250127, 11995.769143533456, 11992.966085257849, 11991.1731049981, 11983.051511747795, 11989.728250585458, 11998.653768604376, 11993.580270526041, 11995.012148456231, 11993.808087098465, 11992.016747762842, 11988.959255794232, 11972.51245218464, 11991.623970396678, 11993.259885158863, 11994.417624504866, 11995.512955966562, 11996.367805684491, 11998.391143925137, 11997.903429698801, 11987.637160963177, 11992.911661661039, 11994.159815045738, 11995.109828724973, 11993.43923658022, 11991.279135599758, 11997.528165228368, 11985.975375993414, 11992.530300628943, 11995.900030187015, 11995.13785789395, 11994.195440561083, 11991.593071774485, 11997.490329361355, 11983.042879812536, 12001.018814528361, 12001.207311647699, 11999.298528831741, 11999.851932787453, 12001.898008567307, 12002.099921728544, 12002.296339949995, 12002.46119234033, 12002.721706712746, 12002.845855409554, 12003.935059868938, 12003.19648998459, 12003.30693420173, 12003.456608883322, 12003.621081076046, 12003.720549673992, 12003.69878022123, 12003.598773789821, 12003.496202611921, 12003.315544557034, 12004.088412857005, 12003.914428776827, 12002.818745701154, 12002.693739464585, 12002.431335645771, 12002.293377543572, 12002.062256274045, 12001.848458047367, 11999.794367047518, 12001.34817628275, 12001.166345530313, 12000.775802175967, 12000.56524979109, 11997.038129257422, 12001.711698726505, 12001.390731453543, 12001.210866730442, 12002.496707573424, 12002.220583178421, 12002.07502011082, 12001.798879821505, 12001.553247344127, 12001.255309869757, 12001.069102497639, 12000.668420154154, 12000.4519753842, 12001.805678251843, 12001.627346719228, 12001.370591253684, 12001.115108132251, 12000.719259728252, 12000.505614906395, 12000.040684825863, 12006.281466349594, 12005.857570114647, 12005.943021826024, 12006.052363483182, 12006.106833360785, 12006.21360151835, 12006.265933637056, 12006.348269555838, 12006.423947492316, 12006.03903164185, 12000.620674957181, 12000.169700219898, 11999.923602776933, 11999.38069750048, 11999.01562326776, 11998.506817026659, 11998.00656365891, 12000.227180965057, 11999.984700211517, 11999.450561473408, 11999.039708666289, 11998.522160006007, 11998.104750558557, 11997.212165535668, 11996.482902849564, 11999.519238997531, 11998.913986176505, 11998.537417774993, 11997.931295439368, 11997.331562479621, 11996.219904920576, 11995.521619829546, 11993.599766722584, 11998.51662476811, 11997.935054606074, 11997.447464547518, 11996.372232206639, 11994.89711083772, 11993.888014528058, 11990.47560814847, 11983.373773144313, 11997.175456450179, 11996.518872131059, 11995.1075248701, 11994.156779964247, 11991.079936185575, 11981.573875987191, 11990.162367955729, 11993.637192032922, 11995.307338755716, 11993.247433980201, 11991.604679997796, 11975.023412006783, 12006.936936689193, 11993.267745823896, 11995.3195737131, 11996.050946862499, 11989.811843946522, 11983.472451955724, 11990.627504391283, 11993.388424965731, 11995.120457846262, 11995.885807779981, 11997.081161914699, 11998.000324591478, 11990.857618518974, 12001.20076595294, 12001.433656083604, 12001.767417571495, 12001.924396487968, 12002.220997775243, 12002.361440393996, 12002.62834331141, 12002.821565279619, 12002.998028226164, 12003.226762373764, 12003.336405907934, 12003.5470786159, 12003.677627613566, 12003.827714428917, 12003.937781656407, 12004.119694697707, 12004.23654570111, 12004.377945889983, 12004.541285821126, 12004.628361631017, 12004.746659907176, 12004.84923038138, 12004.994743229321, 12005.065563975972, 12005.20354678804, 12005.292961872077, 12005.395532093042, 12002.42314218753, 12002.141676241863, 12001.942379318189, 12001.678445654581, 12007.869900922631, 12007.831413625157, 12007.77832759922, 12007.728132305652, 12007.655321304279, 12007.618411538928, 12007.543556516894, 12007.496559362182, 12007.437635877486, 12007.389500799452, 12007.310192870485, 11996.369745389073, 11994.893419559483, 11993.88314268693, 11990.725346289035, 11978.817819487202, 11990.568241631128, 11992.591113564187, 11994.928310854957, 11995.727843713626, 11996.964641515297, 11997.662565958926, 11998.282159445966, 11998.670828634078, 11999.311172946831, 11999.596613096915, 12000.112822031499, 12000.445642621979, 12000.766615617158, 12000.980147582124, 12001.35216012076, 12001.52597617497, 12001.852417578546, 12002.006171022364, 12002.282947860065, 12002.484229003554, 12002.697070725939, 12002.822009742504, 12003.060744832897, 12003.17497931453, 12003.394091309056, 12003.520024305326, 12003.672059097946, 12003.799305945882, 12003.987486439331, 12004.372647259619, 12004.20211541283, 12004.11273157256, 12003.978182641811, 12003.847080736503, 12003.740956536953, 12003.54051074905, 12003.436385579564, 12003.219643944909, 12003.086396617926, 12002.919069682306, 12002.74318147949, 12002.576672090725, 12002.352545060821, 12002.211755414775, 12001.91442924748, 12001.720487699193, 12001.480131917833, 12001.225626867317, 12000.927550721122, 12000.655124808183, 12000.437887826556, 12006.242410572293, 12006.304004308084, 12006.376151692477, 12006.446352253051, 12006.495753234543, 12006.592756725795, 12006.64039282799, 12006.733996923993, 12006.781879423284, 12006.84500238396, 12006.907498913217, 12006.958844262994, 12007.045362154988, 11991.783345332467, 11993.366914976015, 11995.37925466639, 11996.230701677181, 11997.020719019218, 11997.709686849257, 11998.128545163045, 11998.853908955205, 11999.172590496994, 11999.467745525517, 11999.94963734564, 12000.28802696017, 12000.684842713923, 12006.02229857987, 12005.966645067783, 12005.852967565133, 12005.794889925317, 12005.716120045772, 12005.63374105442, 12005.54962125093, 12005.49114274308, 12005.362884842923, 12005.297176229718, 12005.230370147294, 12005.093322434157, 12005.013513309634, 12004.917547364887, 12004.80426379126, 12004.728613204014, 12004.651504231391, 12004.492677859625, 12004.410835631186, 12004.290532774412, 12004.17820025063, 12004.056604516005, 12003.974447124501, 12003.78563800451, 12003.687776987768, 12003.587461609468, 12003.378964859603, 12003.27779746046, 12003.13250555222, 12002.926203184841, 12002.804526196815, 12002.67903146951, 12002.549471652057, 12002.277038699414, 12002.131584488272, 12005.672244071357, 12005.749901158182, 12005.831878940735, 12005.88943132951, 12005.946160601641, 12006.057254951866, 12006.111669622413, 12006.177599367105, 12006.244551097963, 12006.310229665516, 12006.373160231942, 12006.423469318928, 12006.522221534009, 12006.570700857003, 12006.618600216507, 12006.679865826278, 11995.965095629199, 11995.019234870375, 11993.8172364975, 11992.435309790812, 11985.457114429544, 11986.692702251412, 11990.716032468556, 11993.05115422412, 11994.515846621112, 11995.547902440956, 11996.428901312307, 11996.99508186261, 11997.490969297465, 11998.329347188861, 11998.690715478751, 11999.040143981558, 11999.405996198844, 11999.747367727428, 12000.126746499587, 12000.361052407363, 12000.582389652594, 12000.792143429555, 12001.118948108691, 12001.362437285054, 12001.518800005484, 12001.718201390097, 12001.86149294845, 12002.06478213619, 12002.305135845125, 12002.442717003783, 12002.575722941172, 12002.704448183636, 12005.232072707458, 12005.15272311243, 12005.069438842278, 12004.984383571273, 12004.912094638497, 12004.838475208411, 12004.738159210277, 12004.609119516248, 12004.529649366446, 12004.451297344782, 12004.354645484562, 12004.281302482794, 12004.194971383402, 12004.016508821334, 12003.924200674497, 12003.829711922184, 12003.732935628585, 12003.613627740866, 12003.497583604752, 12003.374502356352, 12005.035513364071, 12005.105625709237, 12005.174531067174, 12005.242269497789, 12005.308879073229, 12002.615416721012, 12002.425319218204, 12002.273041213386, 12002.109840756786, 12001.908910853841, 12001.75129292837, 12001.587208515215, 12001.416106338596, 12001.237354693678, 12001.050242180308, 12000.758949621104, 12000.525650243284, 12000.27011650956, 11999.955413476308, 11999.69527191693, 11999.417027875279, 11999.117972258875, 11998.794738296787, 11998.443069763332, 11997.920181085487, 11997.430591749877, 11996.872609770071, 11995.982103728718, 11995.236689201913, 11994.319800180265, 11993.128049526907, 11991.42311660765, 11988.390435445093, 11982.075498280941, 11989.793023077578, 11992.258318706876, 11993.444096531404, 11994.556773519003, 11995.426247944208, 11996.140059813803, 11997.103627892704, 11997.735952739773, 11998.152193781745, 11998.419818159213, 11998.784713768464, 11999.129417837648, 11999.484711268846, 11999.758441789209, 12000.014633966384, 12000.25540052897, 12000.482520579428, 12000.69740951883, 12000.913911642614, 12001.114270544062, 12001.304472445156, 12001.468823541112, 12001.626689552204, 12001.789208758535, 12001.945363412315, 12002.095650327741, 12002.240495241838, 12002.380279552133, 12002.55454596834, 12002.68861088314, 12002.813809292678, 12002.895154777543, 12003.014145251509, 12003.12969941131, 12005.018720751854, 12004.947055429453, 12004.874081793045, 12004.799753004285, 12004.693318591853, 12004.618137698395, 12004.538847532285, 12004.487802601496, 12004.405860250827, 12004.322203090904, 12004.215597142571, 12004.301489749538, 12004.385575662956, 12004.467930283861, 12004.568807015305, 12004.645950661172, 12004.72061406694, 12004.786399065251, 12004.856044914255, 12004.929343392134, 12005.001322824251, 12005.072029846035, 12005.141508662568, 12005.209801214593, 12005.27695533528, 12005.336438436687, 12005.399357096168, 12005.461301627141, 12005.534805081563, 12002.128143456543, 12001.979096374847, 12001.824260925985, 12001.663209576554, 12001.49540085205, 12001.437845269464, 12001.247964268074, 12001.074076870746, 12000.885639860024, 12000.743416093557, 12000.531026833776, 12000.306752550323, 12000.069152726623, 11999.816543263032, 11999.546899137953, 11999.25775568653, 11998.946071337603, 11998.73526763488, 11998.39052953922, 11998.04044304924, 11997.831823068174, 11997.378840175843, 11996.867929095277, 11996.282071038488, 11995.595434307064, 11994.76588309278, 11993.718179774753, 11992.29473572013, 11990.872619153002, 11987.68834540901, 11981.573901099804, 11987.235103087427, 11990.922938261016, 11992.80878205703, 11994.085112314919, 11995.051197075594, 11995.828750634762, 11996.47948561061, 11997.039020771288, 11997.308265955613, 11997.725127562082, 11998.089252459182, 11998.385872570376, 12006.461425379914, 12006.411596426435, 12006.361138910097, 12006.310036151874, 12006.258272695812, 12006.258267790752, 12006.205825627532, 12006.143046514706, 12006.097024093853, 12006.047904556084, 12006.00187918311, 12005.932776239031, 12005.913886943796, 12005.875851206367, 12005.818109779204, 12005.759521908938, 12005.700063860251, 12005.639708652188, 12005.578428794961, 12005.549505480518, 12005.495232183812, 12005.442342888213, 12005.386577834242, 12005.323457210741, 12005.257094528508, 12005.189612253436, 12005.18960685383, 12005.120966474884, 12005.051127634886, 12003.296479548566, 12003.404272308553, 12003.460593212083, 12003.550450176972, 12003.63164174562, 12003.714499676264, 12003.808510626208, 12003.903492845444, 12003.934667635627, 12003.99628998396, 12004.086965270659, 12004.175630522703, 12004.262372924928, 12004.347274109927, 12004.380740176985, 12004.449568151695, 12004.514547034296, 12004.578487190996, 12004.669944780399, 12004.669950654621, 12004.7467053205, 12004.822014840604, 12004.895932629131, 12004.968509192558, 12004.968514581287, 12005.039797616335, 12005.11196331175, 12005.167281954215, 12005.22165995542, 12005.273087481286, 12005.31288017886, 12005.378330875908, 12005.442727834417, 12005.506104447228, 12005.506109061089, 12005.568497077544, 12005.629934273302, 12005.690434866978, 12005.690439240905, 12005.76342401732, 12005.808762342549, 12005.853208375444, 12005.89716620074, 12005.923689741654, 12005.979936387812, 12006.035409682854, 12006.09011762897, 12006.090121523544, 12006.144091247947, 12006.197342657504, 12006.249894938544, 12006.249899345305, 12006.310863996001, 12006.349583961197, 11999.191625436613, 11998.961571918499, 11998.751650393977, 11998.420722862109, 11998.03286952679, 11998.032835879174, 11997.603293110571, 11997.122012059328, 11996.574800072949, 11996.574751814522, 11995.940625459367, 11995.186666698924, 11994.623294089204, 11993.853227546095, 11992.89868661711, 11991.642490226195, 11988.105789526166, 11988.105373308676, 11982.015081339612, 11989.553599598315, 11990.54973745153, 11992.010418668104, 12006.859764261191, 12006.814685807112, 12006.814682176602, 12006.764656295356, 12006.730696128516, 12006.698156842758, 12006.66534503201, 12006.63068593991, 12006.581333759828, 12006.581330528894, 12006.532983366173, 12006.484044690846, 12006.45108197039, 12006.434496521477, 12006.384330272587, 12006.33352686777, 12006.333517327763, 12006.280005435174, 12006.243898721319, 12006.207129059654, 12006.170018264422, 12006.132559946489, 12006.069341829287, 12006.069338251813, 12006.014343763138, 12005.958582631236, 12005.958572225534, 12005.902022631655, 12005.844662103606, 12005.844658365824, 12005.78646325885, 12005.727408977571, 12005.701543090163, 12005.661422662348, 12002.066619209067, Inf]\n",
      "R² : [-285.34824892652057, -902.127328094836, -2586.4106201288932, -1435.4945095786813, -0.005052154702752887, -0.00720321346839925, -0.0035624173623274302, -0.005526797057745725, -0.007473961400509932, -0.008126289765573391, -0.005968037423051076, -0.009806676517706725, -0.015813278118357532, -0.025426127806601473, -0.027602690741801883, -0.023259294485830972, -0.04586201386501654, -0.09789798475774414, -0.24847301261708932, -0.7878143228018126, -21.08224020627527, -1.1279110820036635, -0.2599419387945545, -0.12633328832751345, -0.08390533254698651, -0.05115187479203609, -0.0437655256705749, -0.03534053733550713, -0.02946739561122369, -0.025131658826668568, -0.012510681146775227, -0.0070933381810058815, -0.006505500074589943, -0.005968836975919434, -0.0054735045659704, -0.006188759357094398, -0.005093337458021763, -0.004175621953815822, -0.003793351857846128, -0.003432423087062597, -0.003426052756632547, -0.0030706492160694765, -0.002465389863861356, -0.0021791222712541636, -0.0019101934480754146, -0.002277269925200942, -0.0014237282895646075, -0.0012061398113811794, 0.9736757104759052, 0.9874302389178355, 0.8815509963703665, 0.9965253975306122, 0.9961332069933106, 0.9904500205444502, 0.957972676780663, 0.9703637527161241, 0.9570415845484682, 0.9939488334874665, 0.9974188236780602, 0.997906652759069, 0.9946964222741168, 0.9897908063553006, 0.9830169758249153, 0.9874499152019545, 0.9939983243246102, 0.9974793527863698, 0.9986658810715149, 0.9975096160207124, 0.9705898047271101, 0.9887685390916189, 0.9831769816137529, 0.9945775574550015, 0.9976971731198332, 0.9988835525472589, 0.9986491715176705, 0.9960133810217257, 0.9931630684538427, 0.9916935742324432, 0.9827183912220403, 0.9981721798980351, 0.9990979578039797, 0.9986094239159257, 0.9968693673918453, 0.99425791513315, 0.9898653058485439, 0.9971186217229422, 0.9987776039503287, 0.9992966803874713, 0.982273859712029, 0.9965964960732777, 0.9936464072292241, 0.996376312107174, 0.9983399494234867, 0.9993323660458583, 0.9822784701460265, 0.9983394214571966, 0.9956665979782958, 0.9961256271712804, 0.9981427705442721, 0.9991995442710353, 0.9993472233056415, 0.9987623728544465, 0.9970344469924796, 0.9946187398524655, 0.9982368596140578, 0.9992205377537255, 0.9994235907502124, 0.9989641789296553, 0.9945329204451165, 0.9719030524390958, 0.9340903658569207, 0.8819380188610423, 0.8962260611844777, 0.9114338223394701, 0.9720152914146116, 0.9363789697765462, 0.9464985419635826, 0.9562167859438124, 0.31216116762308366, 0.29889278157164156, 0.44396680752360074, 0.4304714353724599, 0.41785744360131194, 0.9664944097050513, 0.9731765126878781, 0.9443531183904794, 0.9540642215937047, 0.9619505843727488, 0.9692305797817202, 0.9759263653906142, 0.9497673134895883, 0.9584061024476902, 0.9658445613348192, 0.9729249666884169, 0.9784955166756392, 0.9559831838875791, 0.9639430399617925, 0.9704173271004831, 0.9762788079827218, 0.9544138992691334, 0.962201886260975, 0.6487687141544346, 0.637400056262343, 0.6258685534379835, 0.7016302657333768, 0.6911736917864527, 0.9748388260014933, 0.979948543112494, 0.9618402688869941, 0.9690282560306862, 0.9746234438389363, 0.9799863420597176, 0.9630561269936226, 0.969830859025583, 0.9757835038320295, 0.9805694964918455, 0.9649869194529206, 0.9712960496406063, 0.9768579172896463, 0.9816628546248399, 0.8049383854435351, 0.795510316350764, 0.786333863109771, 0.7772133210704859, 0.8199928914146228, 0.9757022115395829, 0.9805831873950958, 0.9675153264807891, 0.9729455383759278, 0.9783189779761856, 0.982994415368559, 0.9715195524323397, 0.9765256712941818, 0.9812432551745508, 0.9696387115559159, 0.9750119416407655, 0.979819567211738, 0.8442807450175817, 0.8737607628583773, 0.8662875707320143, 0.8587923880948204, 0.8087188398869798, 0.9974337123439617, 0.9986580619569789, 0.9993849496893227, 0.9997067119157712, 0.999609030169535, 0.9991186790352644, 0.9982419708546434, 0.996989544220877, 0.9953718582906135, 0.9934304897790498, 0.9911627174680774, 0.9885586284044875, 0.9858493717944259, 0.9824062716919344, 0.9791745390773179, 0.9273795496632686, 0.9362108974217119, 0.9436536519142892, 0.951126643810743, 0.9579411479285788, 0.9641292552843339, 0.9698404834953889, 0.9749114264073336, 0.9794534980578247, 0.9307334307533259, 0.9250922957721939, 0.9185329801862252, 0.9127072949846083, 0.9949597999010271, 0.9967152017779514, 0.9980962336304507, 0.9989985483221702, 0.9995742413123451, 0.999777159296671, 0.9995856242160875, 0.9990444411726219, 0.8495979780889705, 0.9969447491891067, 0.995510380025163, 0.9936322135874243, 0.9916961011267977, 0.9469141336537708, 0.9537759606754207, 0.9600526243225438, 0.9657711627818981, 0.9709933365386721, 0.9756365147626345, 0.9801182229626778, 0.9654203907912052, 0.9613342064810797, 0.956617679126068, 0.9518887359999424, 0.9947062460819333, 0.9964671141760842, 0.9978345006417794, 0.9988287711347237, 0.9994729396428316, 0.9997551818704269, 0.9140332256410378, 0.9082865207961389, 0.9986735978113283, 0.9976477937616761, 0.9964707495319228, 0.9588880459194742, 0.9645059091705569, 0.969656429607477, 0.9743252036429764, 0.9785339357817804, 0.9831133807122512, 0.9801642967628107, 0.9767311815450944, 0.9734231477807371, 0.9696896507374551, 0.9956157514963128, 0.9971018554913146, 0.9982868053130222, 0.9824957391549439, -12.997284621182798, -117.16484835628341, -318.6062461488135, -612.206345556005, -601.6653282909461, -1069.552279214857, -653.3517384063133, -343.51177678927553, -134.94708944727003, -77.98128668695801, -11.308727976154199, -2.1714013049136445, -47.722098392833104, -214.43843876465039, -438.47293938584505, -431.06455068897327, -723.380609593213, -616.4867941131735, -339.2058077741261, -146.49164301388618, -34.39060909284634, -7.284871788769943, -5.452404940272324, -57.84434713887849, -155.76498373524865, -311.5782743920821, -543.4702330408869, -588.9914600060919, -337.0633251679215, -157.21605886960376, -46.114508945698496, -45.370919043048445, 0.04757325320480732, -33.77028602551104, -126.2802935672351, -222.87196359372155, -396.50621797391227, -572.5399731664136, -341.1439233061197, -171.4397492041719, -60.636674598730316, -2006.2675428656437, -5.002924435603982, -47.70147394727981, -1183.9067370681937, -850.280347796372, -552.118074551151, -338.945427714264, -179.5111336420929, -1297.3209714865807, -1641.8795544797856, -0.18606056360367096, -33.50948583597581, -114.04313488045571, -237.15386246920096, -509.94317241706324, -334.7147737441616, -185.98222444565732, -81.36222003017768, -19.67092332994662, 0.9924681890182533, -74.65910257367507, -125.48351414145519, -252.40457933788966, -366.46711665935106, -647.0440675008467, -90.96554169149132, -27.32169347323282, -0.24886269576155384, -8.145473773405206, -949.4434763517856, -598.8256483811678, -319.140254040153, -490.6142448356752, -716.5254494808246, -931.8026247432314, -3.1526601018635283, -1163.9099452142589, -682.7085093067384, -177.20744364273926, -277.2468704011337, -444.14419188196774, -107.01871377038186, -42.43589515002762, 0.2621406856251357, -19.489493937012494, -1750.5438908224455, -135.60891997078673, -274.53548498179816, -147.7664846629344, -58.885672412831624, -11.80015708356303, 0.9966141188551665, -46.15586844283461, -104.3505714749741, -184.31893041202974, -314.9855458880834, -476.76130743943725, -1294.701889466615, -1000.2612864421085, -4.823981452731874, -79.26831251363195, -146.76598940988805, -233.35869212319162, -99.26440676962139, -32.58408437103695, -752.6266823839986, -1.3045159361507208, -59.2642619822723, -319.5532920101234, -215.03602259566736, -132.054336896118, -34.735073980174484, -671.7402965752914, 0.5160283867018556, -3822.468415916262, -4144.90058541874, -1574.3551895131766, -2049.2742428822667, -5627.488878754695, -6144.16693489458, -6690.125991889865, -7170.783608151067, -8062.893472572875, -8468.697015904412, -14412.42194360219, -9834.288991406807, -10259.893795382102, -10916.39532714579, -11701.620633424622, -12142.645156157296, -11859.580394138897, -11139.15693310431, -10449.502740606506, -9427.533308190195, -13702.267644858517, -12404.525948485463, -7083.011317453778, -6571.6502149826365, -5692.557282728571, -5247.888066722124, -4617.89612914492, -4099.040208024875, -1449.2434549501831, -3114.707377429281, -2809.608376390586, -2283.230861659532, -2030.3349330375333, -343.0779071871625, -3517.086944169365, -2959.9003128973127, -2673.2273928839654, -5025.481507104223, -4325.83845492391, -3974.992629775435, -3421.8134601885145, -2991.0084848559977, -2547.013672561948, -2293.6676213058477, -1855.4462380828293, -1645.9060973223495, -3202.507189028133, -2895.827864304772, -2517.8788805667937, -2190.721173329996, -1776.8720794573646, -1578.7844297297854, -1237.0732536286575, -27734.672872391693, -22187.694383146394, -22899.519853453046, -23919.133780096185, -24308.925688253, -25360.62576611992, -25748.387436076024, -26538.267386819254, -27262.534255448147, -22246.214948262405, -1464.5083098691023, -1156.1005928620502, -1011.1837997127944, -762.3321002509986, -628.2164311241618, -481.7168110627835, -370.92798583956454, -1116.0475734988224, -978.1434750153343, -740.8311358983431, -596.7942728611323, -455.7162730242388, -365.86215562025035, -231.3769236269777, -158.72201599784293, -720.510500812117, -526.6867707775147, -431.69771960005727, -315.3462175565242, -231.03032524997064, -130.7590482975691, -91.0016120593361, -33.844367649476695, -402.1749695870848, -297.47129639956586, -230.59844409890778, -132.96159901085392, -62.44636043659167, -36.93548592109549, -5.820699451251107, 0.8061439368163892, -189.67231423102538, -135.00015215263483, -65.51397108833865, -39.956354522353266, -7.71103170089393, 0.9255700611483275, -4.402865670875767, -29.41572344986391, -68.45567820234382, -23.56763154125758, -9.705778995196233, 0.9973390761284181, -22436.44157700785, -22.920462441344764, -65.12381612218392, -93.45596426757074, -3.1352088256714685, 0.8278114663960114, -5.1067281821156465, -23.068860769621725, -55.715078500492965, -81.42238471044008, -147.51906229803888, -232.11013507768797, -5.497461195136294, -1133.8728425991756, -1263.0153540965246, -1479.7356665928335, -1586.9286390431423, -1825.0771443212047, -1941.2888313637475, -2199.8217903051363, -2402.654746746404, -2602.369285120399, -2893.446758307337, -3031.1494772959886, -3340.097946704361, -3536.0762379639045, -3780.441426163503, -3961.7370841675074, -4303.762913103789, -4525.78701238046, -4818.2168972894115, -5186.304637023618, -5373.785314743255, -5655.853235698899, -5906.284951712751, -6301.895951600911, -6477.694247314865, -6886.048260430433, -7144.7296982143425, -7462.297191586784, -1674.3664009099432, -1443.2072917797161, -1296.196973907259, -1127.1333804230967, -24744.63615968949, -24088.93613303992, -23280.782642419177, -22532.989949636285, -21564.64909583568, -21012.39769048309, -20090.099963633405, -19478.31811825715, -18773.45351661521, -18192.521468449682, -17357.424985695576, -71.55218795576224, -33.42799268943875, -19.62467787229644, -3.2222865045873537, 0.9891171822746277, -2.847744757235309, -9.504450189692742, -32.558929605495834, -48.69996278858606, -90.59412995425673, -127.93685034978805, -173.53791525219899, -209.5089492475739, -286.9482826190194, -328.84090909854825, -423.0507865342223, -496.41794087911416, -579.0491630850718, -640.0472913024661, -765.9046185402132, -829.9352599248508, -970.7343165913938, -1041.4170216176715, -1188.219248301645, -1305.474536180883, -1442.652138721407, -1525.681897441411, -1708.0597762237244, -1796.8073872975676, -1992.0357308784116, -2107.946586266926, -2259.9768936248483, -2393.17631713739, -2612.72438200529, -3147.8302206818803, -2872.317498808903, -2729.556000985215, -2536.0153825299944, -2360.3242580194187, -2224.4814953410532, -1999.8874135454832, -1886.7698297445368, -1682.5771837304894, -1564.5231413232152, -1430.1897134350747, -1301.8284928147825, -1190.5853874865336, -1057.919112296406, -980.0881100811118, -839.5679092034406, -757.399858591875, -667.5837822891436, -584.2639284607891, -500.2992541234456, -433.93352370501185, -386.92110228505896, -7024.592186205969, -7202.966859009271, -7425.129667613442, -7646.876920969758, -7793.942218485427, -8135.391109776813, -8284.921750669995, -8633.589280921315, -8793.763841447062, -9025.637494424267, -9260.932899838263, -9449.735058463617, -9813.696754400873, -3.7359365873637644, -9.39721681120779, -27.284213373373355, -42.06217516332371, -62.57962787595308, -88.24970080532059, -108.45897081897117, -155.481161700957, -181.54589708828308, -209.46630058944154, -265.41065185240524, -312.8835793725998, -379.7866722046088, -5462.239805713606, -5285.021643406599, -4967.402691672078, -4800.610009262551, -4591.747424042771, -4384.1387538224835, -4182.356476751543, -4041.4352820043937, -3771.398556647394, -3631.311857246429, -3494.5780089016716, -3246.9600759474706, -3104.561430072743, -2944.572263368096, -2768.792636675411, -2653.026115681328, -2540.2937889157215, -2334.9753342685594, -2230.5514214468362, -2090.2322683847215, -1966.5994820231056, -1841.7564495410934, -1759.2379304614667, -1593.1306965151073, -1509.8933946445834, -1429.2730585012896, -1281.6878473770462, -1212.7728684643569, -1122.5191652884798, -1007.7496595311779, -943.8667669968797, -882.3581207369224, -823.1919457672196, -714.9842240614582, -661.765113892201, -3873.83548063924, -4009.2684174580672, -4158.487393656397, -4260.967899517188, -4364.253437902176, -4593.32348961349, -4699.384457539773, -4835.744479688411, -4978.6894898081255, -5122.683561686932, -5263.691744766606, -5374.639766068996, -5622.593140832809, -5736.044144273785, -5850.183115754825, -6006.706698526031, -27.196444824534385, -16.4976092586224, -8.55323478119832, -3.767142733387982, 0.8550699552250285, 0.7322892102865042, -0.993107269196478, -5.379878371874979, -12.215679219647289, -21.050954610508846, -33.11695943306402, -44.098063167404526, -56.55566086993422, -86.17572303766457, -103.02272252014737, -122.38847857190984, -146.5685321754713, -173.34253118138378, -208.92899408497894, -234.0962036355828, -260.58265902952917, -288.3764500302167, -338.42270115179645, -380.8853587092659, -410.35045615697913, -451.7336512450365, -483.50195710958377, -533.2968881040862, -599.2390039405416, -639.5528626867392, -681.0216895727349, -723.6324355566, -2553.804078133899, -2445.2793805461765, -2336.7923781713494, -2231.1689442011716, -2143.9942964343763, -2058.8806822289366, -1950.9407632494758, -1822.3063278182515, -1744.9114714916989, -1671.7585448988634, -1587.0938871859425, -1524.40849621817, -1454.7319435472878, -1325.7104261581753, -1261.3640466362767, -1198.844899463922, -1138.1328585563224, -1068.3908553822616, -1004.570996154308, -941.2504932882775, -2153.4486787400215, -2222.576590575706, -2292.566502440304, -2363.4087967881364, -2435.0939413206825, -630.4352750669643, -571.2262145048562, -527.4749106851395, -484.4164816877224, -436.53933469203383, -402.02318689449476, -369.0360530160126, -337.5629275683145, -307.58792694263263, -279.0967932933973, -240.3348669734478, -213.05732106628506, -186.76600326093967, -158.90437631720258, -138.94472857919965, -120.37430026757502, -103.17958784293089, -87.34726688920931, -72.86418928423136, -55.689100358059186, -43.238543758107554, -32.362266511657864, -20.30631310777265, -13.630931392524273, -8.221574791007816, -4.065909247259809, -1.1531694935216383, 0.5288201045235456, 0.9800213097240703, 0.055803871606609046, -2.2289019690678606, -4.823823916795805, -9.127271085251637, -14.594459086270765, -21.215235618991006, -34.856657629983296, -48.041586280291504, -59.206248657496694, -67.6200866515157, -81.10837337448534, -96.26204328517636, -114.82519777879227, -131.4206759064976, -149.07362610164466, -167.77477236680198, -187.51745654365627, -208.28775964883556, -231.5361800958907, -255.29250882026594, -280.0475713211594, -303.2386754244201, -327.280329901411, -354.0502181241778, -381.7865747876915, -410.48448672320404, -440.13601995136025, -470.73343772996077, -512.23050513787, -546.2711643532472, -579.9934874780065, -602.4222725369453, -637.6307293922489, -673.7392651669571, -1729.3323491110234, -1663.8274252312237, -1599.7689578308705, -1537.146274214921, -1453.4499406827267, -1395.9804329142282, -1338.0393044778561, -1300.767609381055, -1245.1434903135457, -1190.8840549848856, -1125.99092067477, -1172.3053686935239, -1219.4305467937659, -1267.360799780622, -1329.4490287789633, -1378.1253643132363, -1426.8227922035026, -1470.7043610894584, -1518.8783466410396, -1571.5115207503022, -1624.9081339546367, -1679.0625297395904, -1733.969121200882, -1789.6223902680686, -1846.0242793794553, -1896.924735116574, -1952.5966721617779, -2008.9386657482016, -2078.908295590181, -376.74681331096434, -348.73807585317525, -321.87287425911126, -296.14872938860975, -271.553796595852, -263.1649093692414, -238.64439134706203, -218.14709212021083, -197.9518880298372, -183.8412077976844, -164.81223483060637, -146.8620822184061, -129.98052066971434, -114.15970507817359, -99.39187578460015, -85.6693574693444, -72.98455806260063, -65.42410673716985, -54.77377504351837, -45.7063702483468, -40.98018909738756, -32.392816467036056, -24.803930836328664, -18.206456606957676, -12.593393692930706, -7.957320584540479, -4.292492635130326, -1.5915188833462968, -0.2698130179602931, 0.7422013660461284, 0.9879066676118905, 0.7954198685097671, -0.2902466107843751, -2.305122042937455, -5.242391957543937, -9.095981473922363, -13.859696637920196, -19.52749437888042, -26.0932463230955, -29.928108680548966, -37.010453219383, -44.4992208176569, -51.6561664810134, -2978.0042537328054, -2898.2896097168104, -2819.839619594466, -2742.644746001398, -2666.6980951503, -2660.873934367017, -2586.3456331430984, -2500.95519278441, -2438.75389831952, -2374.4326223790986, -2315.402496786401, -2231.938766595196, -2206.222223228242, -2160.028035642477, -2094.0692732388593, -2029.2767550230687, -1965.6442281030343, -1903.163329555436, -1841.8265028082676, -1811.5644918473326, -1759.3556977446062, -1709.8444997980675, -1659.3467118580788, -1604.4337474968456, -1548.8318114705064, -1494.3271330539224, -1491.2543085622374, -1437.9580446987188, -1385.7421909671136, -574.5647503178978, -605.204382289849, -621.2565940420193, -648.5382375170881, -674.0886063026282, -701.2329111761733, -733.5577063357988, -767.7480922837913, -778.2719626271148, -801.062334538962, -836.6033744981202, -872.8455793006301, -909.7850052634889, -947.4177482379597, -961.5358395026996, -993.2951231217143, -1024.1332149653945, -1055.384822916084, -1102.6763515625094, -1100.5525696718705, -1141.4491921289805, -1183.0148065271799, -1225.2458076695773, -1268.138626659903, -1265.7307689448346, -1309.2062786910292, -1354.7794556492468, -1390.177227857505, -1425.835508238731, -1460.258175211281, -1486.8385360990178, -1533.4702802696354, -1580.738185960635, -1628.6389602799236, -1625.6322608607832, -1674.081630773122, -1723.1630048316033, -1772.860644361274, -1769.6237650839983, -1832.0856830185296, -1870.7079088239368, -1909.300995792215, -1948.2236973918489, -1970.686735423367, -2023.2800126613238, -2076.4829571204777, -2130.2789331245654, -2126.484504694445, -2180.791105425388, -2235.6913425323455, -2291.1827153566815, -2287.1467613619443, -2353.821288415111, -2395.6451399950774, -65.75944343548156, -58.40174443624813, -52.38992996835044, -44.16951515484442, -36.142596819479536, -36.0778980225029, -28.860237001013775, -22.43357700579682, -16.793820728455195, -16.763025167161608, -11.914522020124807, -7.843424140154978, -5.661159148967056, -3.5247868093256987, -1.8027883040967914, -0.49307210016103253, 0.74568732935212, 0.7461649545339933, 0.9879402754378585, 0.4781043616936913, 0.1426226260222877, -0.7767920387566005, -2973.504459080847, -2902.4307316715494, -2897.6654189868036, -2821.438002332755, -2769.3921449991585, -2720.2504051243623, -2671.627698835897, -2621.461748786585, -2553.413265754402, -2549.2984492166147, -2484.3923343172783, -2420.4321499027146, -2377.04807663922, -2353.6538500430593, -2291.6795956582164, -2230.634814916863, -2227.09886435427, -2164.856666596131, -2122.76403682179, -2080.8079293097826, -2039.341091710286, -1998.3610310323616, -1933.1394729741478, -1930.1366175485975, -1874.8532589733895, -1820.4616142296395, -1817.6497540390058, -1764.2350694850563, -1711.701551139669, -1709.084051782442, -1657.512981920209, -1606.8127554847813, -1583.7493091690358, -1549.9295560524988, -255.64670433481422, -Inf]\n"
     ]
    },
    {
     "name": "stdout",
     "output_type": "stream",
     "text": [
      "\n",
      "\u001b[0m\u001b[1mModel ##Basis#383 with 1000 equations\u001b[22m\n",
      "States : u[1] u[2] u[3]\n",
      "Parameters : 5981\n",
      "Independent variable: t\n",
      "Equations\n",
      "φ₁ = p₁*u[1] + p₂*u[2] + p₃*u[3]\n",
      "φ₂ = p₄*u[1] + p₅*u[2] + p₆*u[3]\n",
      "φ₃ = p₇*u[1] + p₈*u[2] + p₉*u[3]\n",
      "φ₄ = p₁₀*u[1] + p₁₁*u[2] + p₁₂*u[3]\n",
      "...\n",
      "φ₁₀₀₀ = p₅₉₇₅ + p₅₉₇₆*u[1] + p₅₉₇₇*(u[1]^2) + p₅₉₇₈*u[2] + p₅₉₇₉*(u[2]^2) + p₅₉₈₀*u[3] + p₅₉₈₁*(u[3]^2)\n"
     ]
    }
   ],
   "source": [
    "res = solve(prob, basis, STLSQ(.01))\n",
    "println(res)\n",
    "println(result(res))"
   ]
  },
  {
   "cell_type": "code",
   "execution_count": null,
   "id": "8f4108d9",
   "metadata": {},
   "outputs": [],
   "source": []
  },
  {
   "cell_type": "code",
   "execution_count": null,
   "id": "68062f44",
   "metadata": {},
   "outputs": [],
   "source": []
  },
  {
   "cell_type": "code",
   "execution_count": null,
   "id": "060f3389",
   "metadata": {},
   "outputs": [],
   "source": []
  },
  {
   "cell_type": "code",
   "execution_count": null,
   "id": "7315184d",
   "metadata": {},
   "outputs": [],
   "source": [
    "[.1, .1, 5000]"
   ]
  },
  {
   "cell_type": "code",
   "execution_count": null,
   "id": "0fdcaa3c",
   "metadata": {},
   "outputs": [],
   "source": [
    "ann = FastChain(FastDense(3, 64, tanh), FastDense(64, 64, tanh), FastDense(64, 1))\n",
    "p = Float64.(initial_params(ann))\n",
    "\n",
    "function dudt_(u, p, t)\n",
    "    \n",
    "    S, I, R = u\n",
    "    β, γ, N = p_\n",
    "\n",
    "    z = ann([S, I, N], p) # Exposure does not depend on exposed, removed, or cumulative!\n",
    "\n",
    "    dS = -β * S * I/N - z[1]  # susceptible\n",
    "\n",
    "    dI =  β * S * I/N - γ*I - z[1] # infected\n",
    "\n",
    "    dR =  γ*I\n",
    "\n",
    "\n",
    "    [dS, dI, dR]\n",
    "end\n",
    "\n",
    "prob_nn = ODEProblem(dudt_, u0, tspan, p)\n",
    "s = concrete_solve(prob_nn, Tsit5(), u0, p, saveat=1)\n",
    "\n",
    "plot(solution, vars=[2, 3, 4])\n",
    "plot!(s[2:4, :]')"
   ]
  },
  {
   "cell_type": "code",
   "execution_count": null,
   "id": "8644aa7f",
   "metadata": {},
   "outputs": [],
   "source": []
  }
 ],
 "metadata": {
  "kernelspec": {
   "display_name": "Julia 1.7.3",
   "language": "julia",
   "name": "julia-1.7"
  },
  "language_info": {
   "file_extension": ".jl",
   "mimetype": "application/julia",
   "name": "julia",
   "version": "1.7.3"
  }
 },
 "nbformat": 4,
 "nbformat_minor": 5
}
