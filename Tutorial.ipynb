{
 "cells": [
  {
   "cell_type": "code",
   "execution_count": 1,
   "id": "9fc140e5",
   "metadata": {},
   "outputs": [
    {
     "name": "stderr",
     "output_type": "stream",
     "text": [
      "┌ Warning: The variable syntax (x[1:2])(t) is deprecated. Use (x(t))[1:2] instead.\n",
      "│                   The former creates an array of functions, while the latter creates an array valued function.\n",
      "│                   The deprecated syntax will cause an error in the next major release of Symbolics.\n",
      "│                   This change will facilitate better implementation of various features of Symbolics.\n",
      "└ @ Symbolics /Users/adrocampos/.julia/packages/Symbolics/FGTCH/src/variable.jl:129\n"
     ]
    },
    {
     "ename": "LoadError",
     "evalue": "ArgumentError: p₁ is not a parameter.",
     "output_type": "error",
     "traceback": [
      "ArgumentError: p₁ is not a parameter.",
      "",
      "Stacktrace:",
      " [1] check_parameters(ps::Vector{Sym{Real, Base.ImmutableDict{DataType, Any}}}, iv::Sym{Real, Base.ImmutableDict{DataType, Any}})",
      "   @ ModelingToolkit ~/.julia/packages/ModelingToolkit/EUWOP/src/utils.jl:135",
      " [2] ODESystem(tag::UInt64, deqs::Vector{Equation}, iv::Sym{Real, Base.ImmutableDict{DataType, Any}}, dvs::Vector{Term{Real, Base.ImmutableDict{DataType, Any}}}, ps::Vector{Sym{Real, Base.ImmutableDict{DataType, Any}}}, tspan::Nothing, var_to_name::Dict{Any, Any}, ctrls::Vector{Any}, observed::Vector{Equation}, tgrad::Base.RefValue{Vector{Num}}, jac::Base.RefValue{Any}, ctrl_jac::Base.RefValue{Any}, Wfact::Base.RefValue{Matrix{Num}}, Wfact_t::Base.RefValue{Matrix{Num}}, name::Symbol, systems::Vector{ODESystem}, defaults::Dict{Any, Any}, torn_matching::Nothing, connector_type::Nothing, preface::Nothing, cevents::Vector{ModelingToolkit.SymbolicContinuousCallback}, devents::Vector{ModelingToolkit.SymbolicDiscreteCallback}, metadata::Nothing, tearing_state::Nothing, substitutions::Nothing, complete::Bool; checks::Bool)",
      "   @ ModelingToolkit ~/.julia/packages/ModelingToolkit/EUWOP/src/systems/diffeqs/odesystem.jl:138",
      " [3] ODESystem(deqs::Vector{Equation}, iv::Num, dvs::Vector{Term{Real, Base.ImmutableDict{DataType, Any}}}, ps::Vector{Sym{Real, Base.ImmutableDict{DataType, Any}}}; controls::Vector{Num}, observed::Vector{Equation}, systems::Vector{ODESystem}, tspan::Nothing, name::Symbol, default_u0::Dict{Any, Any}, default_p::Dict{Any, Any}, defaults::Dict{Any, Any}, connector_type::Nothing, preface::Nothing, continuous_events::Nothing, discrete_events::Nothing, checks::Bool, metadata::Nothing)",
      "   @ ModelingToolkit ~/.julia/packages/ModelingToolkit/EUWOP/src/systems/diffeqs/odesystem.jl:200",
      " [4] top-level scope",
      "   @ ~/.julia/packages/ModelingToolkit/EUWOP/src/systems/abstractsystem.jl:867",
      " [5] eval",
      "   @ ./boot.jl:373 [inlined]",
      " [6] include_string(mapexpr::typeof(REPL.softscope), mod::Module, code::String, filename::String)",
      "   @ Base ./loading.jl:1196"
     ]
    }
   ],
   "source": [
    "using DataDrivenDiffEq\n",
    "using ModelingToolkit\n",
    "using LinearAlgebra\n",
    "using OrdinaryDiffEq\n",
    "\n",
    "A = [-0.9 0.2; 0.0 -0.2]\n",
    "u0 = [10.0; -10.0]\n",
    "tspan = (0.0, 10.0)\n",
    "\n",
    "f(u,p,t) = A*u\n",
    "\n",
    "sys = ODEProblem(f, u0, tspan)\n",
    "sol = solve(sys, Tsit5(), saveat = 0.05);\n",
    "\n",
    "X = Array(sol)\n",
    "t = sol.t\n",
    "prob = ContinuousDataDrivenProblem(X, t)\n",
    "\n",
    "using ModelingToolkit\n",
    "\n",
    "@parameters t\n",
    "@variables x[1:2](t)\n",
    "\n",
    "basis = Basis(x, x, independent_variable = t, name = :LinearBasis)\n",
    "\n",
    "sparse_res = solve(prob, basis, STLSQ(1e-1))\n",
    "\n",
    "sparse_system = result(sparse_res)\n",
    "\n",
    "@named sys = ODESystem(\n",
    "    equations(sparse_system),\n",
    "    get_iv(sparse_system),\n",
    "    states(sparse_system),\n",
    "    parameters(sparse_system)\n",
    "    );\n",
    "\n",
    "x0 = [x[1] => u0[1], x[2] => u0[2]]\n",
    "ps = parameter_map(sparse_res)\n",
    "\n",
    "ode_prob = ODEProblem(sys, x0, tspan, ps)\n",
    "estimate = solve(ode_prob, Tsit5(), saveat = prob.t);\n",
    "\n",
    "# This file was generated using Literate.jl, https://github.com/fredrikekre/Literate.jl"
   ]
  },
  {
   "cell_type": "code",
   "execution_count": null,
   "id": "8bdef793",
   "metadata": {},
   "outputs": [],
   "source": []
  }
 ],
 "metadata": {
  "kernelspec": {
   "display_name": "Julia 1.7.3",
   "language": "julia",
   "name": "julia-1.7"
  },
  "language_info": {
   "file_extension": ".jl",
   "mimetype": "application/julia",
   "name": "julia",
   "version": "1.7.3"
  }
 },
 "nbformat": 4,
 "nbformat_minor": 5
}
