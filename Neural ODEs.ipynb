{
 "cells": [
  {
   "cell_type": "markdown",
   "id": "21990add",
   "metadata": {},
   "source": [
    "# Tutorial"
   ]
  },
  {
   "cell_type": "code",
   "execution_count": null,
   "id": "00c4f91c",
   "metadata": {},
   "outputs": [],
   "source": [
    "using DiffEqFlux,DifferentialEquations, Optimization, OptimizationOptimJL, Random, Plots, CSV, Lux, DataFrames\n",
    "using DataDrivenDiffEq, ModelingToolkit, LinearAlgebra, DiffEqSensitivity, Zygote, Optim, CSV, Lux, Pkg, Flux\n",
    "gr()\n",
    "Pkg.status()"
   ]
  },
  {
   "cell_type": "markdown",
   "id": "17c7ee6e",
   "metadata": {},
   "source": [
    "### ODE data for simmulation"
   ]
  },
  {
   "cell_type": "code",
   "execution_count": null,
   "id": "8a2a2309",
   "metadata": {},
   "outputs": [],
   "source": [
    "rng = Random.default_rng()\n",
    "u0 = Float32[2.0; 0.0]\n",
    "datasize = 30\n",
    "tspan = (0.0f0, 1.5f0)\n",
    "tsteps = range(tspan[1], tspan[2], length = datasize)\n",
    "\n",
    "function trueODEfunc(du, u, p, t)\n",
    "    true_A = [-0.1 2.0; -2.0 -0.1]\n",
    "    du .= ((u.^3)'true_A)'\n",
    "end\n",
    "\n",
    "prob_trueode = ODEProblem(trueODEfunc, u0, tspan)\n",
    "ode_data = Array(solve(prob_trueode, Tsit5(), saveat = tsteps))"
   ]
  },
  {
   "cell_type": "markdown",
   "id": "76729ed2",
   "metadata": {},
   "source": [
    "### This is an Neural ODE"
   ]
  },
  {
   "cell_type": "code",
   "execution_count": null,
   "id": "e71e1561",
   "metadata": {},
   "outputs": [],
   "source": [
    "dudt2 = Lux.Chain(x -> x.^3,\n",
    "                  Lux.Dense(2, 50, tanh),\n",
    "                  Lux.Dense(50, 2))\n",
    "p, st = Lux.setup(rng, dudt2)\n",
    "prob_neuralode = NeuralODE(dudt2, tspan, Tsit5(), saveat = tsteps)"
   ]
  },
  {
   "cell_type": "code",
   "execution_count": null,
   "id": "cd9b20a3",
   "metadata": {},
   "outputs": [],
   "source": [
    "function predict_neuralode(p)\n",
    "  Array(prob_neuralode(u0, p, st)[1])\n",
    "end\n",
    "\n",
    "function loss_neuralode(p)\n",
    "    pred = predict_neuralode(p)\n",
    "    loss = sum(abs2, ode_data .- pred)\n",
    "    return loss, pred\n",
    "end\n",
    "\n",
    "# Do not plot by default for the documentation\n",
    "# Users should change doplot=true to see the plots callbacks\n",
    "callback = function (p, l, pred; doplot = true)\n",
    "  println(l)\n",
    "  # plot current prediction against data\n",
    "  if doplot\n",
    "    plt = scatter(tsteps, ode_data[1,:], label = \"data\")\n",
    "    scatter!(plt, tsteps, pred[1,:], label = \"prediction\")\n",
    "    display(plot(plt))\n",
    "  end\n",
    "  return false\n",
    "end\n",
    "\n",
    "pinit = Lux.ComponentArray(p)\n",
    "callback(pinit, loss_neuralode(pinit)...; doplot=true)\n",
    "\n",
    "# use Optimization.jl to solve the problem\n",
    "adtype = Optimization.AutoZygote()\n",
    "\n",
    "optf = Optimization.OptimizationFunction((x, p) -> loss_neuralode(x), adtype)\n",
    "optprob = Optimization.OptimizationProblem(optf, pinit)\n",
    "\n",
    "result_neuralode = Optimization.solve(optprob,\n",
    "                                       ADAM(0.05),\n",
    "                                       callback = callback,\n",
    "                                       maxiters = 300)\n",
    "\n",
    "optprob2 = remake(optprob,u0 = result_neuralode.u)\n",
    "\n",
    "result_neuralode2 = Optimization.solve(optprob2,\n",
    "                                        Optim.BFGS(initial_stepnorm=0.01),\n",
    "                                        callback=callback,\n",
    "                                        allow_f_increases = false)\n",
    "\n",
    "callback(result_neuralode2.u, loss_neuralode(result_neuralode2.u)...; doplot=true)"
   ]
  },
  {
   "cell_type": "markdown",
   "id": "9094a1da",
   "metadata": {},
   "source": [
    "# Our data"
   ]
  },
  {
   "cell_type": "code",
   "execution_count": null,
   "id": "0475ceae",
   "metadata": {},
   "outputs": [],
   "source": [
    "data_dir = \"/Users/adrocampos/covid19/synth_data/\"\n",
    "regions = [\"2\", \"3\", \"5\", \"10\", \"15\", \"20\", \"30\"][1]\n",
    "mobility_type = [\"inv_dist\", \"border\", \"neighbor\"][2]\n",
    "initially_recovered = false"
   ]
  },
  {
   "cell_type": "code",
   "execution_count": null,
   "id": "a9f71786",
   "metadata": {},
   "outputs": [],
   "source": [
    "positions = CSV.File(data_dir * \"positions_\" * regions * \"_regions.csv\")\n",
    "positions = DataFrame(positions)"
   ]
  },
  {
   "cell_type": "code",
   "execution_count": null,
   "id": "c2b0c73f",
   "metadata": {},
   "outputs": [],
   "source": [
    "file = \"1\""
   ]
  },
  {
   "cell_type": "code",
   "execution_count": null,
   "id": "bfd0a59b",
   "metadata": {},
   "outputs": [],
   "source": [
    "csv_reader = CSV.File(data_dir * \"SIR_\" * regions * \"_regions_\" * mobility_type * \"_\" * file * \".csv\")\n",
    "df = DataFrame(csv_reader)"
   ]
  },
  {
   "cell_type": "code",
   "execution_count": null,
   "id": "e5dcf29f",
   "metadata": {},
   "outputs": [],
   "source": [
    "index = range(1,stop=5001,step=50)\n",
    "df = df[index,:]"
   ]
  },
  {
   "cell_type": "code",
   "execution_count": null,
   "id": "da6f4292",
   "metadata": {},
   "outputs": [],
   "source": [
    "X = Matrix(df[:, [:S1, :I1, :R1]])'\n",
    "t = df.t"
   ]
  },
  {
   "cell_type": "code",
   "execution_count": null,
   "id": "3657ba91",
   "metadata": {},
   "outputs": [],
   "source": [
    "tspan=(t[begin], t[end])\n",
    "tsteps = range(tspan[1], tspan[2], length = size(t)[1])\n",
    "\n",
    "u0 = X[:,1]"
   ]
  },
  {
   "cell_type": "markdown",
   "id": "d450546e",
   "metadata": {},
   "source": [
    "### Neural ODE for our data"
   ]
  },
  {
   "cell_type": "code",
   "execution_count": null,
   "id": "614f3693",
   "metadata": {},
   "outputs": [],
   "source": [
    "rng = Random.default_rng()\n",
    "\n",
    "dudt2 = Lux.Chain(Lux.Dense(3, 50, tanh),\n",
    "                  Lux.Dense(50, 50, tanh),\n",
    "                  Lux.Dense(50, 3))\n",
    "\n",
    "p, st = Lux.setup(rng, dudt2)\n",
    "prob_neuralode = NeuralODE(dudt2, tspan, Tsit5(), saveat = tsteps)"
   ]
  },
  {
   "cell_type": "code",
   "execution_count": null,
   "id": "afb5b04b",
   "metadata": {},
   "outputs": [],
   "source": [
    "function predict_neuralode(p)\n",
    "  Array(prob_neuralode(u0, p, st)[1])\n",
    "end\n",
    "\n",
    "function loss_neuralode(p)\n",
    "    pred = predict_neuralode(p)\n",
    "    loss = sum(abs2, X .- pred)\n",
    "    return loss, pred\n",
    "end\n",
    "\n",
    "# Do not plot by default for the documentation\n",
    "# Users should change doplot=true to see the plots callbacks\n",
    "callback = function (p, l, pred; doplot = true)\n",
    "  println(l)\n",
    "  # plot current prediction against data\n",
    "  if doplot\n",
    "        \n",
    "        \n",
    "#     plt = scatter(tsteps, X[1,:], label = \"data\")\n",
    "#     scatter!(plt, tsteps, pred[1,:], label = \"prediction\")\n",
    "        \n",
    "    pS = scatter(tsteps, X[1,:], label = \"data S\")\n",
    "    scatter!(pS, tsteps, pred[1,:], label = \"prediction S\")\n",
    "        \n",
    "    pI = scatter(tsteps, X[2,:], label = \"data I\")\n",
    "    scatter!(pI, tsteps, pred[2,:], label = \"prediction I\")\n",
    "        \n",
    "    pR = scatter(tsteps, X[3,:], label = \"data R\")\n",
    "    scatter!(pR, tsteps, pred[3,:], label = \"prediction R\")\n",
    "   \n",
    "    display(plot(pS, pI, pR, layout = (3,1)))\n",
    "            \n",
    "        \n",
    "  end\n",
    "  return false\n",
    "end"
   ]
  },
  {
   "cell_type": "code",
   "execution_count": null,
   "id": "cbadc904",
   "metadata": {},
   "outputs": [],
   "source": [
    "pinit = Lux.ComponentArray(p)\n",
    "callback(pinit, loss_neuralode(pinit)...; doplot=true)\n",
    "\n",
    "# use Optimization.jl to solve the problem\n",
    "adtype = Optimization.AutoZygote()\n",
    "\n",
    "optf = Optimization.OptimizationFunction((x, p) -> loss_neuralode(x), adtype)\n",
    "optprob = Optimization.OptimizationProblem(optf, pinit)\n",
    "\n",
    "result_neuralode = Optimization.solve(optprob,\n",
    "                                       ADAM(0.05),\n",
    "                                       callback = callback,\n",
    "                                       maxiters = 300)\n",
    "\n",
    "\n",
    "\n",
    "optprob2 = remake(optprob, u0 = result_neuralode.u)\n",
    "\n",
    "result_neuralode2 = Optimization.solve(optprob2,\n",
    "                                        Optim.BFGS(initial_stepnorm=0.01),\n",
    "                                        callback=callback,\n",
    "                                        allow_f_increases = false)\n",
    "\n",
    "callback(result_neuralode2.u, loss_neuralode(result_neuralode2.u)...; doplot=true)"
   ]
  },
  {
   "cell_type": "code",
   "execution_count": null,
   "id": "b1cb656e",
   "metadata": {},
   "outputs": [],
   "source": [
    "\n",
    "\n",
    "\n"
   ]
  },
  {
   "cell_type": "markdown",
   "id": "717de709",
   "metadata": {},
   "source": [
    "## Universal Differential Equations"
   ]
  },
  {
   "cell_type": "code",
   "execution_count": null,
   "id": "cbffeefc",
   "metadata": {},
   "outputs": [],
   "source": [
    "# Define the problem\n",
    "prob_nn = ODEProblem(ude_dynamics!,Xₙ[:, 1], tspan, p)\n",
    "\n",
    "## Function to train the network\n",
    "# Define a predictor\n",
    "function predict(θ, X = Xₙ[:,1], T = t)\n",
    "    Array(solve(prob_nn, Vern7(), u0 = X, p=θ,\n",
    "                tspan = (T[1], T[end]), saveat = T,\n",
    "                abstol=1e-6, reltol=1e-6,\n",
    "                sensealg = ForwardDiffSensitivity()\n",
    "                ))\n",
    "end\n",
    "\n",
    "\n",
    "# Define parameters for Multiple Shooting\n",
    "group_size = 5\n",
    "continuity_term = 200.0f0\n",
    "\n",
    "function loss(data, pred)\n",
    "\treturn sum(abs2, data - pred)\n",
    "end\n",
    "\n",
    "function shooting_loss(p)\n",
    "    return multiple_shoot(p, Xₙ, t, prob_nn, loss, Vern7(),\n",
    "                          group_size; continuity_term)\n",
    "end\n",
    "\n",
    "function loss(θ)\n",
    "    X̂ = predict(θ)\n",
    "    sum(abs2, Xₙ - X̂) / size(Xₙ, 2) + convert(eltype(θ), 1e-3)*sum(abs2, θ[3:end]) ./ length(θ[3:end])\n",
    "end\n",
    "\n",
    "# Container to track the losses\n",
    "losses = Float32[]\n",
    "\n",
    "# Callback to show the loss during training\n",
    "callback(θ,args...) = begin\n",
    "\tl = loss(θ) # Equivalent L2 loss\n",
    "    push!(losses, l)\n",
    "    if length(losses)%5==0\n",
    "        println(\"Current loss after $(length(losses)) iterations: $(losses[end])\")\n",
    "    end\n",
    "    false\n",
    "end\n",
    "\n",
    "## Training -> First shooting / batching to get a rough estimate\n",
    "\n",
    "# First train with ADAM for better convergence -> move the parameters into a\n",
    "# favourable starting positing for BFGS\n",
    "res1 = DiffEqFlux.sciml_train(shooting_loss, p, ADAM(0.1f0), cb=callback, maxiters = 100)\n",
    "println(\"Training loss after $(length(losses)) iterations: $(losses[end])\")\n",
    "# Train with BFGS to achieve partial fit of the data\n",
    "res2 = DiffEqFlux.sciml_train(shooting_loss, res1.minimizer, BFGS(initial_stepnorm=0.01f0), cb=callback, maxiters = 500)\n",
    "println(\"Training loss after $(length(losses)) iterations: $(losses[end])\")\n",
    "# Full L2-Loss for full prediction\n",
    "res3 = DiffEqFlux.sciml_train(loss, res2.minimizer, BFGS(initial_stepnorm=0.01f0), cb=callback, maxiters = 10000)\n",
    "println(\"Final training loss after $(length(losses)) iterations: $(losses[end])\")"
   ]
  },
  {
   "cell_type": "code",
   "execution_count": null,
   "id": "a71f786e",
   "metadata": {},
   "outputs": [],
   "source": []
  },
  {
   "cell_type": "code",
   "execution_count": null,
   "id": "69e87844",
   "metadata": {},
   "outputs": [],
   "source": [
    "ann = FastChain(FastDense(3, 50, tanh),\n",
    "                FastDense(50, 50, tanh),\n",
    "                FastDense(50, 1))\n",
    "\n",
    "\n",
    "\n",
    "## Firs the parameters for Beta, gama und N, then the weigths. \n",
    "\n",
    "# Get the initial parameters, first two is linear birth / decay of prey and predator\n",
    "p = [rand(Float32,2); 2000; initial_params(ann)]"
   ]
  },
  {
   "cell_type": "code",
   "execution_count": null,
   "id": "38ab6c93",
   "metadata": {},
   "outputs": [],
   "source": [
    "# rng = Random.default_rng()\n",
    "\n",
    "# ann = Lux.Chain(Lux.Dense(3, 50, tanh),\n",
    "#                   Lux.Dense(50, 50, tanh),\n",
    "#                   Lux.Dense(50, 1))\n",
    "\n",
    "# pinit, st = Lux.setup(rng, ann)\n",
    "\n",
    "# p = [rand(Float32,2); 2000; pinit]\n"
   ]
  },
  {
   "cell_type": "code",
   "execution_count": null,
   "id": "5a3107a3",
   "metadata": {},
   "outputs": [],
   "source": [
    "size(p)"
   ]
  },
  {
   "cell_type": "code",
   "execution_count": null,
   "id": "9c9f0767",
   "metadata": {},
   "outputs": [],
   "source": [
    "# Define the hybrid model\n",
    "function ude_dynamics!(du,u, p, t)\n",
    "    û = U(u, p[3:end]) # Network prediction\n",
    "    # We assume a linear birth rate for the prey\n",
    "    du[1] = p[1]*u[1] + û[1]\n",
    "    # We assume a linear decay rate for the predator\n",
    "    du[2] = -p[2]*u[2] + û[2]\n",
    "end"
   ]
  },
  {
   "cell_type": "code",
   "execution_count": null,
   "id": "fd35b330",
   "metadata": {},
   "outputs": [],
   "source": [
    "function dudt_(du, u, p, t)\n",
    "    \n",
    "    S, I, R = u\n",
    "    β, γ, N  = p[1:3]\n",
    "\n",
    "    z  = ann(u, p[3:end])\n",
    "    dS = -β * S * I/N - z[1]  # susceptible\n",
    "    dI =  β * S * I/N - γ*I - z[1] # infected\n",
    "    dR =  γ * I\n",
    "\n",
    "    du[1] = dS\n",
    "    du[2] = dI\n",
    "    du[3] = dR\n",
    "\n",
    "end\n",
    "\n",
    "\n",
    "\n",
    "# Define the problem\n",
    "prob_UODE = ODEProblem(dudt_, u0, tspan, p) ##prob_neuralode"
   ]
  },
  {
   "cell_type": "code",
   "execution_count": null,
   "id": "1d7fbf4a",
   "metadata": {},
   "outputs": [],
   "source": [
    "\n",
    "# Define parameters for Multiple Shooting\n",
    "group_size = 5\n",
    "continuity_term = 200.0f0\n",
    "\n",
    "# function loss(data, pred)\n",
    "# \treturn sum(abs2, data - pred)\n",
    "# end\n",
    "\n",
    "# function shooting_loss(p)\n",
    "#     return multiple_shoot(p, X, t, prob_UODE, loss, Vern7(),\n",
    "#                           group_size; continuity_term)\n",
    "# end\n",
    "\n",
    "function loss(θ)\n",
    "    X̂ = predict(θ)\n",
    "    sum(abs2, X - X̂) / size(X, 2) + convert(eltype(θ), 1e-3)*sum(abs2, θ[3:end]) ./ length(θ[3:end])\n",
    "    return loss, pred\n",
    "end\n",
    "\n",
    "\n",
    "\n",
    "# Do not plot by default for the documentation\n",
    "# Users should change doplot=true to see the plots callbacks\n",
    "callback = function (p, l, pred; doplot = true)\n",
    "  println(l)\n",
    "  # plot current prediction against data\n",
    "  if doplot\n",
    "        \n",
    "        \n",
    "#     plt = scatter(tsteps, X[1,:], label = \"data\")\n",
    "#     scatter!(plt, tsteps, pred[1,:], label = \"prediction\")\n",
    "        \n",
    "    pS = scatter(tsteps, X[1,:], label = \"data S\")\n",
    "    scatter!(pS, tsteps, pred[1,:], label = \"prediction S\")\n",
    "        \n",
    "    pI = scatter(tsteps, X[2,:], label = \"data I\")\n",
    "    scatter!(pI, tsteps, pred[2,:], label = \"prediction I\")\n",
    "        \n",
    "    pR = scatter(tsteps, X[3,:], label = \"data R\")\n",
    "    scatter!(pR, tsteps, pred[3,:], label = \"prediction R\")\n",
    "   \n",
    "    display(plot(pS, pI, pR, layout = (3,1)))\n",
    "            \n",
    "        \n",
    "  end\n",
    "  return false\n",
    "end\n",
    "\n",
    "# Container to track the losses\n",
    "# losses = Float32[]\n",
    "\n",
    "# Callback to show the loss during training\n",
    "# callback(θ,args...) = begin\n",
    "# \tl = loss(θ) # Equivalent L2 loss\n",
    "#     push!(losses, l)\n",
    "#     if length(losses)%5==0\n",
    "#         println(\"Current loss after $(length(losses)) iterations: $(losses[end])\")\n",
    "#     end\n",
    "#     false\n",
    "# end\n",
    "\n",
    "## Training -> First shooting / batching to get a rough estimate\n",
    "\n",
    "# First train with ADAM for better convergence -> move the parameters into a\n",
    "# favourable starting positing for BFGS\n",
    "\n",
    "\n",
    "# res1 = DiffEqFlux.sciml_train(shooting_loss, p, Adam(0.1f0) , cb=callback, maxiters = 1)\n",
    "# println(\"Training loss after $(length(losses)) iterations: $(losses[end])\")\n",
    "# Train with BFGS to achieve partial fit of the data\n",
    "# res2 = DiffEqFlux.sciml_train(shooting_loss, res1.minimizer, BFGS(initial_stepnorm=0.01f0), cb=callback, maxiters = 500)\n",
    "# println(\"Training loss after $(length(losses)) iterations: $(losses[end])\")\n",
    "# # Full L2-Loss for full prediction\n",
    "# res3 = DiffEqFlux.sciml_train(loss, res2.minimizer, BFGS(initial_stepnorm=0.01f0), cb=callback, maxiters = 10000)\n",
    "# println(\"Final training loss after $(length(losses)) iterations: $(losses[end])\")"
   ]
  },
  {
   "cell_type": "code",
   "execution_count": null,
   "id": "430700ee",
   "metadata": {},
   "outputs": [],
   "source": [
    "# pinit = Lux.ComponentArray(p)\n",
    "# callback(pinit, loss_neuralode(pinit)...; doplot=true)\n",
    "\n",
    "# # use Optimization.jl to solve the problem\n",
    "# adtype = Optimization.AutoZygote()\n",
    "\n",
    "# optf = Optimization.OptimizationFunction((x, p) -> loss_neuralode(x), adtype)\n",
    "# optprob = Optimization.OptimizationProblem(optf, pinit)\n",
    "\n",
    "# result_neuralode = Optimization.solve(optprob,\n",
    "#                                        ADAM(0.05),\n",
    "#                                        callback = callback,\n",
    "#                                        maxiters = 300)"
   ]
  },
  {
   "cell_type": "code",
   "execution_count": null,
   "id": "f18608f4",
   "metadata": {},
   "outputs": [],
   "source": [
    "callback = function (p, l, pred; doplot = true)\n",
    "  println(l)\n",
    "#   plot current prediction against data\n",
    "  if doplot\n",
    "        \n",
    "        \n",
    "#     plt = scatter(tsteps, X[1,:], label = \"data\")\n",
    "#     scatter!(plt, tsteps, pred[1,:], label = \"prediction\")\n",
    "        \n",
    "    pS = scatter(tsteps, X[1,:], label = \"data S\")\n",
    "    scatter!(pS, tsteps, pred[1,:], label = \"prediction S\")\n",
    "        \n",
    "    pI = scatter(tsteps, X[2,:], label = \"data I\")\n",
    "    scatter!(pI, tsteps, pred[2,:], label = \"prediction I\")\n",
    "        \n",
    "    pR = scatter(tsteps, X[3,:], label = \"data R\")\n",
    "    scatter!(pR, tsteps, pred[3,:], label = \"prediction R\")\n",
    "   \n",
    "    display(plot(pS, pI, pR, layout = (3,1)))\n",
    "            \n",
    "        \n",
    "  end\n",
    "  return false\n",
    "end"
   ]
  },
  {
   "cell_type": "code",
   "execution_count": null,
   "id": "7311dcf9",
   "metadata": {},
   "outputs": [],
   "source": [
    "# pinit = Lux.ComponentArray(p)\n",
    "\n",
    "# use Optimization.jl to solve the problem\n",
    "adtype = Optimization.AutoZygote()\n",
    "optf    = Optimization.OptimizationFunction((x,p) -> loss(x), adtype)\n",
    "optprob = Optimization.OptimizationProblem(optf, p)\n",
    "\n",
    "result_neuralode = Optimization.solve(prob_UODE, Tsit5(), callback=callback, maxiters = 300)"
   ]
  },
  {
   "cell_type": "code",
   "execution_count": null,
   "id": "37bebf53",
   "metadata": {},
   "outputs": [],
   "source": [
    "## How to plot the loss using Optimization?"
   ]
  },
  {
   "cell_type": "code",
   "execution_count": null,
   "id": "6679aaf9",
   "metadata": {},
   "outputs": [],
   "source": []
  },
  {
   "cell_type": "code",
   "execution_count": null,
   "id": "1413e1d7",
   "metadata": {},
   "outputs": [],
   "source": [
    "pred[:,1]"
   ]
  },
  {
   "cell_type": "code",
   "execution_count": null,
   "id": "d13e2ade",
   "metadata": {},
   "outputs": [],
   "source": [
    "result_neuralode.t"
   ]
  },
  {
   "cell_type": "code",
   "execution_count": null,
   "id": "0455890b",
   "metadata": {},
   "outputs": [],
   "source": [
    "pred = reduce(hcat,result_neuralode.u)\n",
    "t = result_neuralode.t\n",
    "\n",
    "tspan = (t[begin], t[end])\n",
    "\n",
    "steps = range(1,87)\n",
    "\n",
    "\n",
    "# println(tsteps)\n",
    "\n",
    "# pred = predict(p_trained, X[:,1], tsample)\n",
    "\n",
    "pS = scatter(pred[1,:], label = \"data S\")\n",
    "\n",
    "# # # # scatter!(pS, tsteps, pred[1,:], label = \"prediction S\")\n",
    "\n",
    "pI = scatter(pred[2,:], label = \"data I\")\n",
    "scatter!(pI, tsteps, pred[2,:], label = \"prediction I\")\n",
    "        \n",
    "# # # # pR = scatter(tsteps, X[3,:], label = \"data R\")b\n",
    "# # # # scatter!(pR, tsteps, pred[3,:], label = \"prediction R\")\n",
    "   \n",
    "display(plot(pS, pI, layout = (3,1)))"
   ]
  },
  {
   "cell_type": "code",
   "execution_count": null,
   "id": "87537043",
   "metadata": {},
   "outputs": [],
   "source": [
    "t"
   ]
  },
  {
   "cell_type": "code",
   "execution_count": null,
   "id": "21b50acc",
   "metadata": {},
   "outputs": [],
   "source": [
    "## Analysis of the trained network\n",
    "# Interpolate the solution\n",
    "\n"
   ]
  },
  {
   "cell_type": "code",
   "execution_count": null,
   "id": "fbf85ee1",
   "metadata": {},
   "outputs": [],
   "source": [
    "result_neuralode"
   ]
  },
  {
   "cell_type": "code",
   "execution_count": null,
   "id": "153eef41",
   "metadata": {},
   "outputs": [],
   "source": [
    "# use Optimization.jl to solve the problem\n",
    "adtype = Optimization.AutoZygote()\n",
    "\n",
    "optf = Optimization.OptimizationFunction(loss, adtype)\n",
    "optprob = Optimization.OptimizationProblem(optf, p)\n",
    "\n",
    "result_neuralode = Optimization.solve(prob_UODE,\n",
    "                                       Tsit5(),\n",
    "#                                        callback = callback,\n",
    "                                       maxiters = 300)"
   ]
  },
  {
   "cell_type": "code",
   "execution_count": null,
   "id": "822969f3",
   "metadata": {},
   "outputs": [],
   "source": [
    "\n",
    "function predict(θ)\n",
    "    Array(concrete_solve(prob_UODE, Vern7(), u0, θ, saveat = t))\n",
    "end\n",
    "\n",
    "# No regularisation right now\n",
    "function loss(θ)\n",
    "    pred = predict(θ)\n",
    "    sum(abs2, X .- pred), pred # + 1e-5*sum(sum.(abs, params(ann)))\n",
    "end\n",
    "\n",
    "loss(p)\n",
    "\n",
    "const losses = []\n",
    "callback(θ,l,pred) = begin\n",
    "    push!(losses, l)\n",
    "#     if length(losses)%50==0\n",
    "#         println(losses[end])\n",
    "#     end\n",
    "#     false\n",
    "end\n",
    "\n",
    "res1_uode = DiffEqFlux.sciml_train(loss, p, ADAM(0.01), cb=callback, maxiters = 5)\n",
    "# res2_uode = DiffEqFlux.sciml_train(loss, res1_uode.minimizer, BFGS(initial_stepnorm=0.01), cb=callback, maxiters = 10000)"
   ]
  },
  {
   "cell_type": "code",
   "execution_count": null,
   "id": "3da187ed",
   "metadata": {},
   "outputs": [],
   "source": [
    "# function predict(θ, X=X[:,1], T=t)\n",
    "#     Array(solve(prob_UODE, Vern7(), u0=X, p=θ, tspan=tspan, saveat=T))\n",
    "#     end\n",
    "    \n",
    "    \n",
    "    \n",
    "# function loss(data, pred)\n",
    "# \treturn sum(abs2, data - pred)\n",
    "# end\n",
    "\n",
    "    \n",
    "    \n",
    "function loss(θ)\n",
    "    X̂ = predict(θ)\n",
    "    sum(abs2, Xₙ - X̂) / size(Xₙ, 2) + convert(eltype(θ), 1e-3)*sum(abs2, θ[3:end]) ./ length(θ[3:end])\n",
    "end"
   ]
  },
  {
   "cell_type": "code",
   "execution_count": null,
   "id": "c5b9c882",
   "metadata": {},
   "outputs": [],
   "source": [
    "# use Optimization.jl to solve the problem\n",
    "adtype = Optimization.AutoZygote()\n",
    "\n",
    "optf = Optimization.OptimizationFunction((x, p) -> loss(x), adtype)\n",
    "optprob = Optimization.OptimizationProblem(optf, pinit)\n",
    "\n",
    "result_neuralode = Optimization.solve(prob_UODE,\n",
    "                                       Adam(0.05),\n",
    "#                                        callback = callback,\n",
    "                                       maxiters = 300)"
   ]
  },
  {
   "cell_type": "code",
   "execution_count": null,
   "id": "f06a365f",
   "metadata": {},
   "outputs": [],
   "source": [
    "result_neuralode"
   ]
  },
  {
   "cell_type": "code",
   "execution_count": null,
   "id": "2012b9fe",
   "metadata": {},
   "outputs": [],
   "source": [
    "# Container to track the losses\n",
    "losses = Float32[]\n",
    "\n",
    "# Callback to show the loss during training\n",
    "callback(θ,args...) = begin\n",
    "\tl = loss(θ) # Equivalent L2 loss\n",
    "    print(l)\n",
    "    push!(losses, l)\n",
    "    if length(losses)%5==0\n",
    "        println(\"Current loss after $(length(losses)) iterations: $(losses[end])\")\n",
    "    end\n",
    "    false\n",
    "end\n",
    "\n",
    "\n"
   ]
  },
  {
   "cell_type": "code",
   "execution_count": null,
   "id": "88e42115",
   "metadata": {},
   "outputs": [],
   "source": [
    "## Training -> First shooting / batching to get a rough estimate\n",
    "\n",
    "# First train with ADAM for better convergence -> move the parameters into a\n",
    "# favourable starting positing for BFGS\n",
    "res1 = DiffEqFlux.sciml_train(shooting_loss, p, ADAM(0.1f0), cb=callback, maxiters = 100)\n",
    "println(\"Training loss after $(length(losses)) iterations: $(losses[end])\")\n",
    "# Train with BFGS to achieve partial fit of the data\n",
    "res2 = DiffEqFlux.sciml_train(shooting_loss, res1.minimizer, BFGS(initial_stepnorm=0.01f0), cb=callback, maxiters = 500)\n",
    "println(\"Training loss after $(length(losses)) iterations: $(losses[end])\")\n",
    "# Full L2-Loss for full prediction\n",
    "res3 = DiffEqFlux.sciml_train(loss, res2.minimizer, BFGS(initial_stepnorm=0.01f0), cb=callback, maxiters = 10000)\n",
    "println(\"Final training loss after $(length(losses)) iterations: $(losses[end])\")\n",
    "\n"
   ]
  },
  {
   "cell_type": "code",
   "execution_count": null,
   "id": "6114d5a3",
   "metadata": {},
   "outputs": [],
   "source": [
    "res1 = DiffEqFlux.sciml_train(loss, p, ADAM(0.1f0), cb=callback, maxiters = 100)\n",
    "println(\"Training loss after $(length(losses)) iterations: $(losses[end])\")\n",
    "\n"
   ]
  },
  {
   "cell_type": "code",
   "execution_count": null,
   "id": "1188723d",
   "metadata": {},
   "outputs": [],
   "source": [
    "p_trained = res1.minimizer"
   ]
  }
 ],
 "metadata": {
  "kernelspec": {
   "display_name": "Julia 1.7.3",
   "language": "julia",
   "name": "julia-1.7"
  },
  "language_info": {
   "file_extension": ".jl",
   "mimetype": "application/julia",
   "name": "julia",
   "version": "1.7.3"
  }
 },
 "nbformat": 4,
 "nbformat_minor": 5
}
